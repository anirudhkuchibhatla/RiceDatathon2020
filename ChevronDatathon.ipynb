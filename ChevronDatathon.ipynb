{
  "nbformat": 4,
  "nbformat_minor": 0,
  "metadata": {
    "kernelspec": {
      "display_name": "Python 3",
      "language": "python",
      "name": "python3"
    },
    "language_info": {
      "codemirror_mode": {
        "name": "ipython",
        "version": 3
      },
      "file_extension": ".py",
      "mimetype": "text/x-python",
      "name": "python",
      "nbconvert_exporter": "python",
      "pygments_lexer": "ipython3",
      "version": "3.7.4"
    },
    "colab": {
      "name": "ChevronDatathon.ipynb",
      "provenance": [],
      "toc_visible": true
    }
  },
  "cells": [
    {
      "cell_type": "code",
      "metadata": {
        "id": "3453nr6y8pK5",
        "colab_type": "code",
        "colab": {
          "base_uri": "https://localhost:8080/",
          "height": 122
        },
        "outputId": "168cc22d-9f36-4a9e-fce5-69f28bfdda1b"
      },
      "source": [
        "from google.colab import drive\n",
        "drive.mount('/content/drive')"
      ],
      "execution_count": 3,
      "outputs": [
        {
          "output_type": "stream",
          "text": [
            "Go to this URL in a browser: https://accounts.google.com/o/oauth2/auth?client_id=947318989803-6bn6qk8qdgf4n4g3pfee6491hc0brc4i.apps.googleusercontent.com&redirect_uri=urn%3aietf%3awg%3aoauth%3a2.0%3aoob&response_type=code&scope=email%20https%3a%2f%2fwww.googleapis.com%2fauth%2fdocs.test%20https%3a%2f%2fwww.googleapis.com%2fauth%2fdrive%20https%3a%2f%2fwww.googleapis.com%2fauth%2fdrive.photos.readonly%20https%3a%2f%2fwww.googleapis.com%2fauth%2fpeopleapi.readonly\n",
            "\n",
            "Enter your authorization code:\n",
            "··········\n",
            "Mounted at /content/drive\n"
          ],
          "name": "stdout"
        }
      ]
    },
    {
      "cell_type": "code",
      "metadata": {
        "id": "cnQywxHv8Ysh",
        "colab_type": "code",
        "colab": {}
      },
      "source": [
        "import pandas as pd\n",
        "import numpy as np"
      ],
      "execution_count": 0,
      "outputs": []
    },
    {
      "cell_type": "code",
      "metadata": {
        "id": "ewnYJsLX8Ysk",
        "colab_type": "code",
        "colab": {}
      },
      "source": [
        "data = pd.read_csv('/content/drive/My Drive/training.csv')"
      ],
      "execution_count": 0,
      "outputs": []
    },
    {
      "cell_type": "code",
      "metadata": {
        "id": "tDcD-7nO8Ysu",
        "colab_type": "code",
        "colab": {
          "base_uri": "https://localhost:8080/",
          "height": 224
        },
        "outputId": "a4d618f0-4a59-42fb-b9ab-27fd27c9ea60"
      },
      "source": [
        "data.head()"
      ],
      "execution_count": 6,
      "outputs": [
        {
          "output_type": "execute_result",
          "data": {
            "text/html": [
              "<div>\n",
              "<style scoped>\n",
              "    .dataframe tbody tr th:only-of-type {\n",
              "        vertical-align: middle;\n",
              "    }\n",
              "\n",
              "    .dataframe tbody tr th {\n",
              "        vertical-align: top;\n",
              "    }\n",
              "\n",
              "    .dataframe thead th {\n",
              "        text-align: right;\n",
              "    }\n",
              "</style>\n",
              "<table border=\"1\" class=\"dataframe\">\n",
              "  <thead>\n",
              "    <tr style=\"text-align: right;\">\n",
              "      <th></th>\n",
              "      <th>segment_id</th>\n",
              "      <th>wellbore_chev_no_id</th>\n",
              "      <th>area_id</th>\n",
              "      <th>formation_id</th>\n",
              "      <th>bit_model_id</th>\n",
              "      <th>drillbit_size</th>\n",
              "      <th>min_depth</th>\n",
              "      <th>max_depth</th>\n",
              "      <th>rate_of_penetration</th>\n",
              "      <th>surface_weight_on_bit</th>\n",
              "      <th>surface_rpm</th>\n",
              "    </tr>\n",
              "  </thead>\n",
              "  <tbody>\n",
              "    <tr>\n",
              "      <th>0</th>\n",
              "      <td>wellbore_chev_no_0_727</td>\n",
              "      <td>wellbore_chev_no_0</td>\n",
              "      <td>area_0</td>\n",
              "      <td>formation_62</td>\n",
              "      <td>bit_model_1</td>\n",
              "      <td>12.25</td>\n",
              "      <td>21834.5</td>\n",
              "      <td>21839.5</td>\n",
              "      <td>99.614650</td>\n",
              "      <td>43.533280</td>\n",
              "      <td>150.369091</td>\n",
              "    </tr>\n",
              "    <tr>\n",
              "      <th>1</th>\n",
              "      <td>wellbore_chev_no_0_728</td>\n",
              "      <td>wellbore_chev_no_0</td>\n",
              "      <td>area_0</td>\n",
              "      <td>formation_61</td>\n",
              "      <td>bit_model_1</td>\n",
              "      <td>12.25</td>\n",
              "      <td>21840.0</td>\n",
              "      <td>21869.5</td>\n",
              "      <td>99.354021</td>\n",
              "      <td>42.382033</td>\n",
              "      <td>150.369001</td>\n",
              "    </tr>\n",
              "    <tr>\n",
              "      <th>2</th>\n",
              "      <td>wellbore_chev_no_0_729</td>\n",
              "      <td>wellbore_chev_no_0</td>\n",
              "      <td>area_0</td>\n",
              "      <td>formation_59</td>\n",
              "      <td>bit_model_1</td>\n",
              "      <td>12.25</td>\n",
              "      <td>21870.0</td>\n",
              "      <td>21899.5</td>\n",
              "      <td>83.622907</td>\n",
              "      <td>48.675129</td>\n",
              "      <td>150.429335</td>\n",
              "    </tr>\n",
              "    <tr>\n",
              "      <th>3</th>\n",
              "      <td>wellbore_chev_no_0_730</td>\n",
              "      <td>wellbore_chev_no_0</td>\n",
              "      <td>area_0</td>\n",
              "      <td>formation_65</td>\n",
              "      <td>bit_model_1</td>\n",
              "      <td>12.25</td>\n",
              "      <td>21900.0</td>\n",
              "      <td>21929.5</td>\n",
              "      <td>85.427731</td>\n",
              "      <td>30.041290</td>\n",
              "      <td>150.080000</td>\n",
              "    </tr>\n",
              "    <tr>\n",
              "      <th>4</th>\n",
              "      <td>wellbore_chev_no_0_731</td>\n",
              "      <td>wellbore_chev_no_0</td>\n",
              "      <td>area_0</td>\n",
              "      <td>formation_65</td>\n",
              "      <td>bit_model_1</td>\n",
              "      <td>12.25</td>\n",
              "      <td>21930.0</td>\n",
              "      <td>21959.5</td>\n",
              "      <td>100.639811</td>\n",
              "      <td>31.406319</td>\n",
              "      <td>150.032167</td>\n",
              "    </tr>\n",
              "  </tbody>\n",
              "</table>\n",
              "</div>"
            ],
            "text/plain": [
              "               segment_id  ... surface_rpm\n",
              "0  wellbore_chev_no_0_727  ...  150.369091\n",
              "1  wellbore_chev_no_0_728  ...  150.369001\n",
              "2  wellbore_chev_no_0_729  ...  150.429335\n",
              "3  wellbore_chev_no_0_730  ...  150.080000\n",
              "4  wellbore_chev_no_0_731  ...  150.032167\n",
              "\n",
              "[5 rows x 11 columns]"
            ]
          },
          "metadata": {
            "tags": []
          },
          "execution_count": 6
        }
      ]
    },
    {
      "cell_type": "code",
      "metadata": {
        "id": "aRI4TVjW8Ysy",
        "colab_type": "code",
        "colab": {}
      },
      "source": [
        "wellbores = data.wellbore_chev_no_id.unique()\n",
        "area = data.area_id.unique()\n",
        "formation = data.formation_id.unique()\n",
        "bitmodel = data.bit_model_id.unique()\n",
        "wellbore_dict = dict(zip(wellbores, range(len(wellbores))))\n",
        "area_dict = dict(zip(area, range(len(area))))\n",
        "formation_dict = dict(zip(formation, range(len(formation))))\n",
        "bitmodel_dict = dict(zip(bitmodel, range(len(bitmodel))))"
      ],
      "execution_count": 0,
      "outputs": []
    },
    {
      "cell_type": "code",
      "metadata": {
        "id": "_ML-zsiq8Ys2",
        "colab_type": "code",
        "colab": {}
      },
      "source": [
        "wellbores_col = data.wellbore_chev_no_id"
      ],
      "execution_count": 0,
      "outputs": []
    },
    {
      "cell_type": "code",
      "metadata": {
        "id": "FW2FMoNi8Ys5",
        "colab_type": "code",
        "colab": {}
      },
      "source": [
        "wellbores_col = wellbores_col.map(wellbore_dict)"
      ],
      "execution_count": 0,
      "outputs": []
    },
    {
      "cell_type": "code",
      "metadata": {
        "id": "39wcUjHT8Ys-",
        "colab_type": "code",
        "colab": {}
      },
      "source": [
        "data.wellbore_chev_no_id = wellbores_col"
      ],
      "execution_count": 0,
      "outputs": []
    },
    {
      "cell_type": "code",
      "metadata": {
        "id": "kYWUhFCu8YtE",
        "colab_type": "code",
        "colab": {}
      },
      "source": [
        "area_col = data.area_id"
      ],
      "execution_count": 0,
      "outputs": []
    },
    {
      "cell_type": "code",
      "metadata": {
        "id": "FR7Fyh_R8YtH",
        "colab_type": "code",
        "colab": {}
      },
      "source": [
        "area_col = area_col.map(area_dict)"
      ],
      "execution_count": 0,
      "outputs": []
    },
    {
      "cell_type": "code",
      "metadata": {
        "id": "-FDehY0U8YtK",
        "colab_type": "code",
        "colab": {}
      },
      "source": [
        "data.area_id = area_col"
      ],
      "execution_count": 0,
      "outputs": []
    },
    {
      "cell_type": "code",
      "metadata": {
        "id": "jWYlL5z98YtO",
        "colab_type": "code",
        "colab": {}
      },
      "source": [
        "formation_col = data.formation_id\n",
        "formation_col = formation_col.map(formation_dict)\n",
        "data.formation_id = formation_col"
      ],
      "execution_count": 0,
      "outputs": []
    },
    {
      "cell_type": "code",
      "metadata": {
        "id": "IdpMWybh8YtQ",
        "colab_type": "code",
        "colab": {}
      },
      "source": [
        "bit_col = data.bit_model_id\n",
        "bit_col = bit_col.map(bitmodel_dict)\n",
        "data.bit_model_id = bit_col"
      ],
      "execution_count": 0,
      "outputs": []
    },
    {
      "cell_type": "code",
      "metadata": {
        "id": "Gpnf8XQ58YtT",
        "colab_type": "code",
        "colab": {}
      },
      "source": [
        "data['ratio1'] = data.surface_rpm * data.surface_weight_on_bit\n",
        "data['ratio2'] = data.surface_weight_on_bit / data.drillbit_size\n",
        "data['ratio3'] = data.min_depth / data.drillbit_size\n",
        "data['ratio4'] = np.pi*((data.drillbit_size)/2)**2"
      ],
      "execution_count": 0,
      "outputs": []
    },
    {
      "cell_type": "code",
      "metadata": {
        "id": "lNhgbEG68YtW",
        "colab_type": "code",
        "colab": {
          "base_uri": "https://localhost:8080/",
          "height": 224
        },
        "outputId": "d703b798-61fe-41c0-87e2-9e4985e5972f"
      },
      "source": [
        "data.head()"
      ],
      "execution_count": 17,
      "outputs": [
        {
          "output_type": "execute_result",
          "data": {
            "text/html": [
              "<div>\n",
              "<style scoped>\n",
              "    .dataframe tbody tr th:only-of-type {\n",
              "        vertical-align: middle;\n",
              "    }\n",
              "\n",
              "    .dataframe tbody tr th {\n",
              "        vertical-align: top;\n",
              "    }\n",
              "\n",
              "    .dataframe thead th {\n",
              "        text-align: right;\n",
              "    }\n",
              "</style>\n",
              "<table border=\"1\" class=\"dataframe\">\n",
              "  <thead>\n",
              "    <tr style=\"text-align: right;\">\n",
              "      <th></th>\n",
              "      <th>segment_id</th>\n",
              "      <th>wellbore_chev_no_id</th>\n",
              "      <th>area_id</th>\n",
              "      <th>formation_id</th>\n",
              "      <th>bit_model_id</th>\n",
              "      <th>drillbit_size</th>\n",
              "      <th>min_depth</th>\n",
              "      <th>max_depth</th>\n",
              "      <th>rate_of_penetration</th>\n",
              "      <th>surface_weight_on_bit</th>\n",
              "      <th>surface_rpm</th>\n",
              "      <th>ratio1</th>\n",
              "      <th>ratio2</th>\n",
              "      <th>ratio3</th>\n",
              "      <th>ratio4</th>\n",
              "    </tr>\n",
              "  </thead>\n",
              "  <tbody>\n",
              "    <tr>\n",
              "      <th>0</th>\n",
              "      <td>wellbore_chev_no_0_727</td>\n",
              "      <td>0</td>\n",
              "      <td>0</td>\n",
              "      <td>0</td>\n",
              "      <td>0</td>\n",
              "      <td>12.25</td>\n",
              "      <td>21834.5</td>\n",
              "      <td>21839.5</td>\n",
              "      <td>99.614650</td>\n",
              "      <td>43.533280</td>\n",
              "      <td>150.369091</td>\n",
              "      <td>6546.059694</td>\n",
              "      <td>3.553737</td>\n",
              "      <td>1782.408163</td>\n",
              "      <td>117.858812</td>\n",
              "    </tr>\n",
              "    <tr>\n",
              "      <th>1</th>\n",
              "      <td>wellbore_chev_no_0_728</td>\n",
              "      <td>0</td>\n",
              "      <td>0</td>\n",
              "      <td>1</td>\n",
              "      <td>0</td>\n",
              "      <td>12.25</td>\n",
              "      <td>21840.0</td>\n",
              "      <td>21869.5</td>\n",
              "      <td>99.354021</td>\n",
              "      <td>42.382033</td>\n",
              "      <td>150.369001</td>\n",
              "      <td>6372.943939</td>\n",
              "      <td>3.459758</td>\n",
              "      <td>1782.857143</td>\n",
              "      <td>117.858812</td>\n",
              "    </tr>\n",
              "    <tr>\n",
              "      <th>2</th>\n",
              "      <td>wellbore_chev_no_0_729</td>\n",
              "      <td>0</td>\n",
              "      <td>0</td>\n",
              "      <td>2</td>\n",
              "      <td>0</td>\n",
              "      <td>12.25</td>\n",
              "      <td>21870.0</td>\n",
              "      <td>21899.5</td>\n",
              "      <td>83.622907</td>\n",
              "      <td>48.675129</td>\n",
              "      <td>150.429335</td>\n",
              "      <td>7322.167196</td>\n",
              "      <td>3.973480</td>\n",
              "      <td>1785.306122</td>\n",
              "      <td>117.858812</td>\n",
              "    </tr>\n",
              "    <tr>\n",
              "      <th>3</th>\n",
              "      <td>wellbore_chev_no_0_730</td>\n",
              "      <td>0</td>\n",
              "      <td>0</td>\n",
              "      <td>3</td>\n",
              "      <td>0</td>\n",
              "      <td>12.25</td>\n",
              "      <td>21900.0</td>\n",
              "      <td>21929.5</td>\n",
              "      <td>85.427731</td>\n",
              "      <td>30.041290</td>\n",
              "      <td>150.080000</td>\n",
              "      <td>4508.596850</td>\n",
              "      <td>2.452350</td>\n",
              "      <td>1787.755102</td>\n",
              "      <td>117.858812</td>\n",
              "    </tr>\n",
              "    <tr>\n",
              "      <th>4</th>\n",
              "      <td>wellbore_chev_no_0_731</td>\n",
              "      <td>0</td>\n",
              "      <td>0</td>\n",
              "      <td>3</td>\n",
              "      <td>0</td>\n",
              "      <td>12.25</td>\n",
              "      <td>21930.0</td>\n",
              "      <td>21959.5</td>\n",
              "      <td>100.639811</td>\n",
              "      <td>31.406319</td>\n",
              "      <td>150.032167</td>\n",
              "      <td>4711.958130</td>\n",
              "      <td>2.563781</td>\n",
              "      <td>1790.204082</td>\n",
              "      <td>117.858812</td>\n",
              "    </tr>\n",
              "  </tbody>\n",
              "</table>\n",
              "</div>"
            ],
            "text/plain": [
              "               segment_id  wellbore_chev_no_id  ...       ratio3      ratio4\n",
              "0  wellbore_chev_no_0_727                    0  ...  1782.408163  117.858812\n",
              "1  wellbore_chev_no_0_728                    0  ...  1782.857143  117.858812\n",
              "2  wellbore_chev_no_0_729                    0  ...  1785.306122  117.858812\n",
              "3  wellbore_chev_no_0_730                    0  ...  1787.755102  117.858812\n",
              "4  wellbore_chev_no_0_731                    0  ...  1790.204082  117.858812\n",
              "\n",
              "[5 rows x 15 columns]"
            ]
          },
          "metadata": {
            "tags": []
          },
          "execution_count": 17
        }
      ]
    },
    {
      "cell_type": "code",
      "metadata": {
        "id": "dKL1q33r8YtY",
        "colab_type": "code",
        "colab": {}
      },
      "source": [
        "# data = pd.read_csv('/Users/kunal/Downloads/filesForStartOfDatathon/numerical_chevron_data.csv')"
      ],
      "execution_count": 0,
      "outputs": []
    },
    {
      "cell_type": "code",
      "metadata": {
        "id": "0njSnkWf8Ytc",
        "colab_type": "code",
        "colab": {
          "base_uri": "https://localhost:8080/",
          "height": 272
        },
        "outputId": "82bd5826-97bd-46c9-90d2-0dbaa8b5075a"
      },
      "source": [
        "data[data.columns[1:]].corr()['rate_of_penetration'][:]"
      ],
      "execution_count": 19,
      "outputs": [
        {
          "output_type": "execute_result",
          "data": {
            "text/plain": [
              "wellbore_chev_no_id     -0.060850\n",
              "area_id                 -0.005844\n",
              "formation_id            -0.191339\n",
              "bit_model_id            -0.121953\n",
              "drillbit_size            0.309222\n",
              "min_depth               -0.402306\n",
              "max_depth               -0.402290\n",
              "rate_of_penetration      1.000000\n",
              "surface_weight_on_bit    0.508618\n",
              "surface_rpm              0.611703\n",
              "ratio1                   0.643477\n",
              "ratio2                   0.317429\n",
              "ratio3                  -0.451866\n",
              "ratio4                   0.247433\n",
              "Name: rate_of_penetration, dtype: float64"
            ]
          },
          "metadata": {
            "tags": []
          },
          "execution_count": 19
        }
      ]
    },
    {
      "cell_type": "code",
      "metadata": {
        "id": "WqhyJr5W8Yth",
        "colab_type": "code",
        "colab": {}
      },
      "source": [
        "# data.to_csv('/Users/kunal/Downloads/filesForStartOfDatathon/new_data_ratios.csv')"
      ],
      "execution_count": 0,
      "outputs": []
    },
    {
      "cell_type": "code",
      "metadata": {
        "id": "x-hn5bfK8Ytk",
        "colab_type": "code",
        "colab": {}
      },
      "source": [
        "from sklearn.datasets import load_breast_cancer, load_diabetes, load_wine\n",
        "from sklearn.metrics import auc, accuracy_score, confusion_matrix, mean_squared_error\n",
        "from sklearn.model_selection import cross_val_score, GridSearchCV, KFold, RandomizedSearchCV, train_test_split\n",
        "from sklearn.model_selection import train_test_split\n",
        "import xgboost as xgb\n",
        "from xgboost.sklearn import XGBRegressor\n",
        "from sklearn.linear_model import ElasticNet\n",
        "from sklearn.datasets import make_regression"
      ],
      "execution_count": 0,
      "outputs": []
    },
    {
      "cell_type": "code",
      "metadata": {
        "id": "-mrLBO9N_fWp",
        "colab_type": "code",
        "colab": {}
      },
      "source": [
        "from sklearn.preprocessing import StandardScaler"
      ],
      "execution_count": 0,
      "outputs": []
    },
    {
      "cell_type": "code",
      "metadata": {
        "id": "lLvfHHLa_xVF",
        "colab_type": "code",
        "colab": {
          "base_uri": "https://localhost:8080/",
          "height": 224
        },
        "outputId": "2776ed56-320a-4a78-aa0d-dfa878e07691"
      },
      "source": [
        "data.head()"
      ],
      "execution_count": 49,
      "outputs": [
        {
          "output_type": "execute_result",
          "data": {
            "text/html": [
              "<div>\n",
              "<style scoped>\n",
              "    .dataframe tbody tr th:only-of-type {\n",
              "        vertical-align: middle;\n",
              "    }\n",
              "\n",
              "    .dataframe tbody tr th {\n",
              "        vertical-align: top;\n",
              "    }\n",
              "\n",
              "    .dataframe thead th {\n",
              "        text-align: right;\n",
              "    }\n",
              "</style>\n",
              "<table border=\"1\" class=\"dataframe\">\n",
              "  <thead>\n",
              "    <tr style=\"text-align: right;\">\n",
              "      <th></th>\n",
              "      <th>segment_id</th>\n",
              "      <th>wellbore_chev_no_id</th>\n",
              "      <th>area_id</th>\n",
              "      <th>formation_id</th>\n",
              "      <th>bit_model_id</th>\n",
              "      <th>drillbit_size</th>\n",
              "      <th>min_depth</th>\n",
              "      <th>max_depth</th>\n",
              "      <th>rate_of_penetration</th>\n",
              "      <th>surface_weight_on_bit</th>\n",
              "      <th>surface_rpm</th>\n",
              "      <th>ratio1</th>\n",
              "      <th>ratio2</th>\n",
              "      <th>ratio3</th>\n",
              "      <th>ratio4</th>\n",
              "    </tr>\n",
              "  </thead>\n",
              "  <tbody>\n",
              "    <tr>\n",
              "      <th>0</th>\n",
              "      <td>wellbore_chev_no_0_727</td>\n",
              "      <td>0</td>\n",
              "      <td>0</td>\n",
              "      <td>0</td>\n",
              "      <td>0</td>\n",
              "      <td>12.25</td>\n",
              "      <td>21834.5</td>\n",
              "      <td>21839.5</td>\n",
              "      <td>99.614650</td>\n",
              "      <td>43.533280</td>\n",
              "      <td>150.369091</td>\n",
              "      <td>6546.059694</td>\n",
              "      <td>3.553737</td>\n",
              "      <td>1782.408163</td>\n",
              "      <td>117.858812</td>\n",
              "    </tr>\n",
              "    <tr>\n",
              "      <th>1</th>\n",
              "      <td>wellbore_chev_no_0_728</td>\n",
              "      <td>0</td>\n",
              "      <td>0</td>\n",
              "      <td>1</td>\n",
              "      <td>0</td>\n",
              "      <td>12.25</td>\n",
              "      <td>21840.0</td>\n",
              "      <td>21869.5</td>\n",
              "      <td>99.354021</td>\n",
              "      <td>42.382033</td>\n",
              "      <td>150.369001</td>\n",
              "      <td>6372.943939</td>\n",
              "      <td>3.459758</td>\n",
              "      <td>1782.857143</td>\n",
              "      <td>117.858812</td>\n",
              "    </tr>\n",
              "    <tr>\n",
              "      <th>2</th>\n",
              "      <td>wellbore_chev_no_0_729</td>\n",
              "      <td>0</td>\n",
              "      <td>0</td>\n",
              "      <td>2</td>\n",
              "      <td>0</td>\n",
              "      <td>12.25</td>\n",
              "      <td>21870.0</td>\n",
              "      <td>21899.5</td>\n",
              "      <td>83.622907</td>\n",
              "      <td>48.675129</td>\n",
              "      <td>150.429335</td>\n",
              "      <td>7322.167196</td>\n",
              "      <td>3.973480</td>\n",
              "      <td>1785.306122</td>\n",
              "      <td>117.858812</td>\n",
              "    </tr>\n",
              "    <tr>\n",
              "      <th>3</th>\n",
              "      <td>wellbore_chev_no_0_730</td>\n",
              "      <td>0</td>\n",
              "      <td>0</td>\n",
              "      <td>3</td>\n",
              "      <td>0</td>\n",
              "      <td>12.25</td>\n",
              "      <td>21900.0</td>\n",
              "      <td>21929.5</td>\n",
              "      <td>85.427731</td>\n",
              "      <td>30.041290</td>\n",
              "      <td>150.080000</td>\n",
              "      <td>4508.596850</td>\n",
              "      <td>2.452350</td>\n",
              "      <td>1787.755102</td>\n",
              "      <td>117.858812</td>\n",
              "    </tr>\n",
              "    <tr>\n",
              "      <th>4</th>\n",
              "      <td>wellbore_chev_no_0_731</td>\n",
              "      <td>0</td>\n",
              "      <td>0</td>\n",
              "      <td>3</td>\n",
              "      <td>0</td>\n",
              "      <td>12.25</td>\n",
              "      <td>21930.0</td>\n",
              "      <td>21959.5</td>\n",
              "      <td>100.639811</td>\n",
              "      <td>31.406319</td>\n",
              "      <td>150.032167</td>\n",
              "      <td>4711.958130</td>\n",
              "      <td>2.563781</td>\n",
              "      <td>1790.204082</td>\n",
              "      <td>117.858812</td>\n",
              "    </tr>\n",
              "  </tbody>\n",
              "</table>\n",
              "</div>"
            ],
            "text/plain": [
              "               segment_id  wellbore_chev_no_id  ...       ratio3      ratio4\n",
              "0  wellbore_chev_no_0_727                    0  ...  1782.408163  117.858812\n",
              "1  wellbore_chev_no_0_728                    0  ...  1782.857143  117.858812\n",
              "2  wellbore_chev_no_0_729                    0  ...  1785.306122  117.858812\n",
              "3  wellbore_chev_no_0_730                    0  ...  1787.755102  117.858812\n",
              "4  wellbore_chev_no_0_731                    0  ...  1790.204082  117.858812\n",
              "\n",
              "[5 rows x 15 columns]"
            ]
          },
          "metadata": {
            "tags": []
          },
          "execution_count": 49
        }
      ]
    },
    {
      "cell_type": "code",
      "metadata": {
        "id": "930-eLYq_94Q",
        "colab_type": "code",
        "colab": {}
      },
      "source": [
        "data1 = data.drop(columns=['segment_id'])"
      ],
      "execution_count": 0,
      "outputs": []
    },
    {
      "cell_type": "code",
      "metadata": {
        "id": "Qt6IXqTc_vOF",
        "colab_type": "code",
        "colab": {}
      },
      "source": [
        "scaler = StandardScaler()\n",
        "scaled_data = scaler.fit_transform(data1)"
      ],
      "execution_count": 0,
      "outputs": []
    },
    {
      "cell_type": "code",
      "metadata": {
        "id": "jV5vaoUH8Ytm",
        "colab_type": "code",
        "colab": {}
      },
      "source": [
        "y = data1.rate_of_penetration"
      ],
      "execution_count": 0,
      "outputs": []
    },
    {
      "cell_type": "code",
      "metadata": {
        "id": "3P9O8RyJ8Ytp",
        "colab_type": "code",
        "colab": {}
      },
      "source": [
        "X = data1.drop(columns=['rate_of_penetration'])\n",
        "# ','min_depth','max_depth'"
      ],
      "execution_count": 0,
      "outputs": []
    },
    {
      "cell_type": "code",
      "metadata": {
        "id": "OumP5owr8Ytr",
        "colab_type": "code",
        "colab": {}
      },
      "source": [
        "X_train, X_test, y_train, y_test = train_test_split(X, y, test_size=0.30, random_state=42)"
      ],
      "execution_count": 0,
      "outputs": []
    },
    {
      "cell_type": "code",
      "metadata": {
        "id": "w8V5xRv98Ytw",
        "colab_type": "code",
        "colab": {
          "base_uri": "https://localhost:8080/",
          "height": 68
        },
        "outputId": "6c048cc3-e656-4e39-e541-ef5cee879cdf"
      },
      "source": [
        "X, y = make_regression(n_features= 2, random_state=0)\n",
        "regr = ElasticNet(random_state=0, tol = 0.1)\n",
        "regr.fit(X_train, y_train)"
      ],
      "execution_count": 56,
      "outputs": [
        {
          "output_type": "execute_result",
          "data": {
            "text/plain": [
              "ElasticNet(alpha=1.0, copy_X=True, fit_intercept=True, l1_ratio=0.5,\n",
              "           max_iter=1000, normalize=False, positive=False, precompute=False,\n",
              "           random_state=0, selection='cyclic', tol=0.1, warm_start=False)"
            ]
          },
          "metadata": {
            "tags": []
          },
          "execution_count": 56
        }
      ]
    },
    {
      "cell_type": "code",
      "metadata": {
        "id": "4vhFut-g8Ytz",
        "colab_type": "code",
        "colab": {
          "base_uri": "https://localhost:8080/",
          "height": 136
        },
        "outputId": "66273d58-9059-4c98-d6b8-e096bd37a894"
      },
      "source": [
        "# xgb_model = xgb.XGBRegressor(objective=\"reg:squarederror\", random_state=42)\n",
        "xgbr = xgb.XGBRegressor() \n",
        "XGBRegressor(base_score=0.8, booster='gbtree', colsample_bylevel=1,\n",
        "       colsample_bynode=1, colsample_bytree=1, gamma=0,\n",
        "       importance_type='gain', learning_rate=0.2, max_delta_step=0,\n",
        "       max_depth=7, min_child_weight=1, missing=None, n_estimators=350,\n",
        "       n_jobs=1, nthread=None, objective='reg:squarederror', random_state=0,\n",
        "       reg_alpha=0, reg_lambda=1, scale_pos_weight=1, seed=None,\n",
        "       silent=None, subsample=1, verbosity=1)\n",
        "\n"
      ],
      "execution_count": 28,
      "outputs": [
        {
          "output_type": "execute_result",
          "data": {
            "text/plain": [
              "XGBRegressor(base_score=0.8, booster='gbtree', colsample_bylevel=1,\n",
              "             colsample_bynode=1, colsample_bytree=1, gamma=0,\n",
              "             importance_type='gain', learning_rate=0.2, max_delta_step=0,\n",
              "             max_depth=7, min_child_weight=1, missing=None, n_estimators=350,\n",
              "             n_jobs=1, nthread=None, objective='reg:squarederror',\n",
              "             random_state=0, reg_alpha=0, reg_lambda=1, scale_pos_weight=1,\n",
              "             seed=None, silent=None, subsample=1, verbosity=1)"
            ]
          },
          "metadata": {
            "tags": []
          },
          "execution_count": 28
        }
      ]
    },
    {
      "cell_type": "code",
      "metadata": {
        "id": "YGNcGxAE8Yt3",
        "colab_type": "code",
        "colab": {
          "base_uri": "https://localhost:8080/",
          "height": 85
        },
        "outputId": "ef57a86c-9414-4b21-d7c9-f670555305d1"
      },
      "source": [
        "xgbr.fit(X_train, y_train)\n",
        "\n",
        "y_pred = xgbr.predict(X_test)\n",
        "\n",
        "mse=mean_squared_error(y_test, y_pred)\n",
        "\n",
        "print(np.sqrt(mse))"
      ],
      "execution_count": 29,
      "outputs": [
        {
          "output_type": "stream",
          "text": [
            "/usr/local/lib/python3.6/dist-packages/xgboost/core.py:587: FutureWarning: Series.base is deprecated and will be removed in a future version\n",
            "  if getattr(data, 'base', None) is not None and \\\n"
          ],
          "name": "stderr"
        },
        {
          "output_type": "stream",
          "text": [
            "[18:26:28] WARNING: /workspace/src/objective/regression_obj.cu:152: reg:linear is now deprecated in favor of reg:squarederror.\n",
            "25.011917973781546\n"
          ],
          "name": "stdout"
        }
      ]
    },
    {
      "cell_type": "code",
      "metadata": {
        "id": "fbz0G-CS8Yt7",
        "colab_type": "code",
        "colab": {
          "base_uri": "https://localhost:8080/",
          "height": 80
        },
        "outputId": "615ad8a7-e7ac-4eb1-b526-83cfe0a98c09"
      },
      "source": [
        "import keras\n",
        "from keras.models import Sequential\n",
        "from keras.layers import Dense"
      ],
      "execution_count": 30,
      "outputs": [
        {
          "output_type": "stream",
          "text": [
            "Using TensorFlow backend.\n"
          ],
          "name": "stderr"
        },
        {
          "output_type": "display_data",
          "data": {
            "text/html": [
              "<p style=\"color: red;\">\n",
              "The default version of TensorFlow in Colab will soon switch to TensorFlow 2.x.<br>\n",
              "We recommend you <a href=\"https://www.tensorflow.org/guide/migrate\" target=\"_blank\">upgrade</a> now \n",
              "or ensure your notebook will continue to use TensorFlow 1.x via the <code>%tensorflow_version 1.x</code> magic:\n",
              "<a href=\"https://colab.research.google.com/notebooks/tensorflow_version.ipynb\" target=\"_blank\">more info</a>.</p>\n"
            ],
            "text/plain": [
              "<IPython.core.display.HTML object>"
            ]
          },
          "metadata": {
            "tags": []
          }
        }
      ]
    },
    {
      "cell_type": "code",
      "metadata": {
        "id": "4cDg7Rt-8Yt-",
        "colab_type": "code",
        "colab": {
          "base_uri": "https://localhost:8080/",
          "height": 323
        },
        "outputId": "7cdaa98f-e46f-4704-fa6f-53194dc81107"
      },
      "source": [
        "# model = Sequential()\n",
        "# # model.add(Dense(input_dim = 13, units = 10, activation='relu', kernel_initializer='uniform'))\n",
        "# # model.add(Dense(units = 20, activation='relu', kernel_initializer='uniform'))\n",
        "# # model.add(Dense(units = 1, activation='sigmoid', kernel_initializer='uniform'))\n",
        "# # model.compile(optimizer='adam', loss='MSE', metrics=['accuracy'])\n",
        "# model.add(Dense(13, input_dim=13, kernel_initializer='normal', activation='relu'))\n",
        "# model.add(Dense(6, kernel_initializer='normal', activation='relu'))\n",
        "# model.add(Dense(1, kernel_initializer='normal'))\n",
        "# # Compile model\n",
        "# model.compile(metrics = ['accuracy'],loss='mean_squared_error', optimizer='adam')\n",
        "from keras import Sequential\n",
        "from keras.layers import Dense\n",
        "# def build_regressor():\n",
        "#     regressor = Sequential()\n",
        "#     regressor.add(Dense(units=13, input_dim=13))\n",
        "#     regressor.add(Dense(units=1))\n",
        "#     regressor.compile(optimizer='adam', loss='mean_squared_error',  metrics=['mae','accuracy'])\n",
        "#     return regressor\n",
        "# from keras.wrappers.scikit_learn import KerasRegressor\n",
        "# regressor = KerasRegressor(build_fn=build_regressor, batch_size=800,epochs=100)\n",
        "\n",
        "# model = Sequential()\n",
        "# model.add(Dense(12, input_dim=13, kernel_initializer='normal', activation='relu'))\n",
        "# model.add(Dense(8, activation='relu'))\n",
        "# model.add(Dense(1, activation='linear'))\n",
        "# model.summary()\n",
        "# model.compile(loss='mse', optimizer='adam', metrics=['mse','mae'])\n",
        "\n",
        "NN_model = Sequential()\n",
        "\n",
        "# The Input Layer :\n",
        "NN_model.add(Dense(32, kernel_initializer='normal',input_dim = 13, activation='relu'))\n",
        "\n",
        "# The Hidden Layers :\n",
        "NN_model.add(Dense(64, kernel_initializer='normal',activation='relu'))\n",
        "NN_model.add(Dense(64, kernel_initializer='normal',activation='relu'))\n",
        "NN_model.add(Dense(64, kernel_initializer='normal',activation='relu'))\n",
        "\n",
        "# The Output Layer :\n",
        "NN_model.add(Dense(1, kernel_initializer='normal',activation='linear'))\n",
        "\n",
        "# Compile the network :\n",
        "NN_model.compile(loss='mean_squared_error', optimizer='adam', metrics=['mean_squared_error'])\n",
        "NN_model.summary()"
      ],
      "execution_count": 101,
      "outputs": [
        {
          "output_type": "stream",
          "text": [
            "Model: \"sequential_17\"\n",
            "_________________________________________________________________\n",
            "Layer (type)                 Output Shape              Param #   \n",
            "=================================================================\n",
            "dense_56 (Dense)             (None, 32)                448       \n",
            "_________________________________________________________________\n",
            "dense_57 (Dense)             (None, 64)                2112      \n",
            "_________________________________________________________________\n",
            "dense_58 (Dense)             (None, 64)                4160      \n",
            "_________________________________________________________________\n",
            "dense_59 (Dense)             (None, 64)                4160      \n",
            "_________________________________________________________________\n",
            "dense_60 (Dense)             (None, 1)                 65        \n",
            "=================================================================\n",
            "Total params: 10,945\n",
            "Trainable params: 10,945\n",
            "Non-trainable params: 0\n",
            "_________________________________________________________________\n"
          ],
          "name": "stdout"
        }
      ]
    },
    {
      "cell_type": "markdown",
      "metadata": {
        "id": "VvSTHX5X-I60",
        "colab_type": "text"
      },
      "source": [
        ""
      ]
    },
    {
      "cell_type": "code",
      "metadata": {
        "id": "17G5tR3e9u6x",
        "colab_type": "code",
        "colab": {}
      },
      "source": [
        "results=NN_model.fit(X_train,y_train, batch_size=500, epochs=200, validation_split=0.2)\n",
        "#500, 200"
      ],
      "execution_count": 0,
      "outputs": []
    },
    {
      "cell_type": "code",
      "metadata": {
        "id": "FB1B5jtD9yct",
        "colab_type": "code",
        "colab": {}
      },
      "source": [
        "y_pred= regressor.predict(X_test)"
      ],
      "execution_count": 0,
      "outputs": []
    },
    {
      "cell_type": "code",
      "metadata": {
        "id": "B3sKhJP5_GDs",
        "colab_type": "code",
        "colab": {}
      },
      "source": [
        "import matplotlib.pyplot as plt"
      ],
      "execution_count": 0,
      "outputs": []
    },
    {
      "cell_type": "code",
      "metadata": {
        "id": "w7CHpQNz_Bv_",
        "colab_type": "code",
        "colab": {
          "base_uri": "https://localhost:8080/",
          "height": 279
        },
        "outputId": "c3e51262-a0ed-418b-9fef-a72aba483966"
      },
      "source": [
        "fig, ax = plt.subplots()\n",
        "ax.scatter(y_test, y_pred)\n",
        "ax.plot([y_test.min(), y_test.max()], [y_test.min(), y_test.max()], 'k--', lw=4)\n",
        "ax.set_xlabel('Measured')\n",
        "ax.set_ylabel('Predicted')\n",
        "plt.show()"
      ],
      "execution_count": 85,
      "outputs": [
        {
          "output_type": "display_data",
          "data": {
            "image/png": "[encoded data removed]",
            "text/plain": [
              "<Figure size 432x288 with 1 Axes>"
            ]
          },
          "metadata": {
            "tags": []
          }
        }
      ]
    },
    {
      "cell_type": "code",
      "metadata": {
        "id": "znjMS8OU_EUA",
        "colab_type": "code",
        "colab": {
          "base_uri": "https://localhost:8080/",
          "height": 51
        },
        "outputId": "fcd7cacc-3148-456c-ad91-155ad647c04b"
      },
      "source": [
        "y_pred"
      ],
      "execution_count": 86,
      "outputs": [
        {
          "output_type": "execute_result",
          "data": {
            "text/plain": [
              "array([161.51736,  92.11263,  78.19916, ..., 100.3319 , 124.29093,\n",
              "        92.56409], dtype=float32)"
            ]
          },
          "metadata": {
            "tags": []
          },
          "execution_count": 86
        }
      ]
    },
    {
      "cell_type": "code",
      "metadata": {
        "id": "m4MVKYc6A0Az",
        "colab_type": "code",
        "colab": {
          "base_uri": "https://localhost:8080/",
          "height": 221
        },
        "outputId": "86929d67-b06c-419e-c910-df68f09b83b5"
      },
      "source": [
        "y_test"
      ],
      "execution_count": 87,
      "outputs": [
        {
          "output_type": "execute_result",
          "data": {
            "text/plain": [
              "3238    227.103109\n",
              "3706     78.116084\n",
              "435      55.749590\n",
              "5659     46.947824\n",
              "3418    163.160333\n",
              "           ...    \n",
              "6333    116.629305\n",
              "485      19.127295\n",
              "6588    171.299000\n",
              "5896    118.252494\n",
              "30       72.587343\n",
              "Name: rate_of_penetration, Length: 2052, dtype: float64"
            ]
          },
          "metadata": {
            "tags": []
          },
          "execution_count": 87
        }
      ]
    },
    {
      "cell_type": "code",
      "metadata": {
        "id": "PGMGDAQVA09M",
        "colab_type": "code",
        "colab": {}
      },
      "source": [
        "from sklearn.metrics import mean_squared_error\n",
        "from math import sqrt\n",
        "\n",
        "rms = sqrt(mean_squared_error(y_test, y_pred))"
      ],
      "execution_count": 0,
      "outputs": []
    },
    {
      "cell_type": "code",
      "metadata": {
        "id": "ZAdIGQFTDVi2",
        "colab_type": "code",
        "colab": {
          "base_uri": "https://localhost:8080/",
          "height": 34
        },
        "outputId": "89a181fa-dc61-4f2a-8ccc-04f1fcbc729a"
      },
      "source": [
        "print(rms)"
      ],
      "execution_count": 91,
      "outputs": [
        {
          "output_type": "stream",
          "text": [
            "78.1596761875041\n"
          ],
          "name": "stdout"
        }
      ]
    },
    {
      "cell_type": "code",
      "metadata": {
        "id": "T80LkAztDmfw",
        "colab_type": "code",
        "colab": {}
      },
      "source": [
        ""
      ],
      "execution_count": 0,
      "outputs": []
    }
  ]
}