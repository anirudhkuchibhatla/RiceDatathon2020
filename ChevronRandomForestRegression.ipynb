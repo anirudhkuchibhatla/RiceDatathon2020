{
  "nbformat": 4,
  "nbformat_minor": 0,
  "metadata": {
    "colab": {
      "name": "ChevronRandomForestRegression.ipynb",
      "provenance": []
    },
    "kernelspec": {
      "name": "python3",
      "display_name": "Python 3"
    }
  },
  "cells": [
    {
      "cell_type": "code",
      "metadata": {
        "id": "YD_kXctAeIay",
        "colab_type": "code",
        "colab": {}
      },
      "source": [
        "import pandas as pd\n",
        "import numpy as np\n",
        "import matplotlib.pyplot as plt\n",
        "% matplotlib inline"
      ],
      "execution_count": 0,
      "outputs": []
    },
    {
      "cell_type": "code",
      "metadata": {
        "id": "rmwmqNBmg0k1",
        "colab_type": "code",
        "colab": {}
      },
      "source": [
        "from google.colab import drive\n",
        "drive.mount('/content/drive')"
      ],
      "execution_count": 0,
      "outputs": []
    },
    {
      "cell_type": "code",
      "metadata": {
        "id": "MCSHlL5njiHI",
        "colab_type": "code",
        "colab": {}
      },
      "source": [
        "df_orig = pd.read_csv('/content/drive/My Drive/training.csv')\n",
        "df_orig.head()"
      ],
      "execution_count": 0,
      "outputs": []
    },
    {
      "cell_type": "code",
      "metadata": {
        "id": "oR4kCi9yhSxy",
        "colab_type": "code",
        "colab": {}
      },
      "source": [
        "df_numerical = pd.read_csv('/content/drive/My Drive/numerical_chevron_data.csv')\n",
        "df_numerical.head()"
      ],
      "execution_count": 0,
      "outputs": []
    },
    {
      "cell_type": "code",
      "metadata": {
        "id": "tg67WtBN0PWz",
        "colab_type": "code",
        "colab": {}
      },
      "source": [
        "df_new_ratios = pd.read_csv('/content/drive/My Drive/new_data_ratios.csv')\n",
        "df_new_ratios.head()"
      ],
      "execution_count": 0,
      "outputs": []
    },
    {
      "cell_type": "code",
      "metadata": {
        "id": "URz8Uo3vygtR",
        "colab_type": "code",
        "colab": {}
      },
      "source": [
        "df_new_ratios['rate_of_penetration'].describe()"
      ],
      "execution_count": 0,
      "outputs": []
    },
    {
      "cell_type": "code",
      "metadata": {
        "id": "SH5MvbegiAZz",
        "colab_type": "code",
        "colab": {}
      },
      "source": [
        "correlation_numerical = df_numerical.corr()\n",
        "correlation_numerical"
      ],
      "execution_count": 0,
      "outputs": []
    },
    {
      "cell_type": "code",
      "metadata": {
        "id": "8RpPGkle1pG1",
        "colab_type": "code",
        "colab": {
          "base_uri": "https://localhost:8080/",
          "height": 551
        },
        "outputId": "7b568428-9f50-4193-db4f-c033685292e2"
      },
      "source": [
        "correlation_new_ratios = df_new_ratios.corr()\n",
        "correlation_new_ratios"
      ],
      "execution_count": 127,
      "outputs": [
        {
          "output_type": "execute_result",
          "data": {
            "text/html": [
              "<div>\n",
              "<style scoped>\n",
              "    .dataframe tbody tr th:only-of-type {\n",
              "        vertical-align: middle;\n",
              "    }\n",
              "\n",
              "    .dataframe tbody tr th {\n",
              "        vertical-align: top;\n",
              "    }\n",
              "\n",
              "    .dataframe thead th {\n",
              "        text-align: right;\n",
              "    }\n",
              "</style>\n",
              "<table border=\"1\" class=\"dataframe\">\n",
              "  <thead>\n",
              "    <tr style=\"text-align: right;\">\n",
              "      <th></th>\n",
              "      <th>Unnamed: 0</th>\n",
              "      <th>wellbore_chev_no_id</th>\n",
              "      <th>area_id</th>\n",
              "      <th>formation_id</th>\n",
              "      <th>bit_model_id</th>\n",
              "      <th>drillbit_size</th>\n",
              "      <th>min_depth</th>\n",
              "      <th>max_depth</th>\n",
              "      <th>rate_of_penetration</th>\n",
              "      <th>surface_weight_on_bit</th>\n",
              "      <th>surface_rpm</th>\n",
              "      <th>ratio1</th>\n",
              "      <th>ratio2</th>\n",
              "      <th>ratio3</th>\n",
              "      <th>ratio4</th>\n",
              "    </tr>\n",
              "  </thead>\n",
              "  <tbody>\n",
              "    <tr>\n",
              "      <th>Unnamed: 0</th>\n",
              "      <td>1.000000</td>\n",
              "      <td>0.983889</td>\n",
              "      <td>0.362257</td>\n",
              "      <td>0.395351</td>\n",
              "      <td>0.507179</td>\n",
              "      <td>0.119224</td>\n",
              "      <td>0.062102</td>\n",
              "      <td>0.062112</td>\n",
              "      <td>-0.089781</td>\n",
              "      <td>-0.027253</td>\n",
              "      <td>-0.101321</td>\n",
              "      <td>-0.054682</td>\n",
              "      <td>-0.138233</td>\n",
              "      <td>-0.020596</td>\n",
              "      <td>0.106121</td>\n",
              "    </tr>\n",
              "    <tr>\n",
              "      <th>wellbore_chev_no_id</th>\n",
              "      <td>0.983889</td>\n",
              "      <td>1.000000</td>\n",
              "      <td>0.391052</td>\n",
              "      <td>0.389533</td>\n",
              "      <td>0.527206</td>\n",
              "      <td>0.173753</td>\n",
              "      <td>-0.002968</td>\n",
              "      <td>-0.002958</td>\n",
              "      <td>-0.060850</td>\n",
              "      <td>-0.013532</td>\n",
              "      <td>-0.111013</td>\n",
              "      <td>-0.044446</td>\n",
              "      <td>-0.163960</td>\n",
              "      <td>-0.077689</td>\n",
              "      <td>0.159723</td>\n",
              "    </tr>\n",
              "    <tr>\n",
              "      <th>area_id</th>\n",
              "      <td>0.362257</td>\n",
              "      <td>0.391052</td>\n",
              "      <td>1.000000</td>\n",
              "      <td>0.215432</td>\n",
              "      <td>0.251886</td>\n",
              "      <td>0.408059</td>\n",
              "      <td>0.029099</td>\n",
              "      <td>0.029120</td>\n",
              "      <td>-0.005844</td>\n",
              "      <td>0.253710</td>\n",
              "      <td>0.074842</td>\n",
              "      <td>0.214461</td>\n",
              "      <td>0.021816</td>\n",
              "      <td>-0.149020</td>\n",
              "      <td>0.392304</td>\n",
              "    </tr>\n",
              "    <tr>\n",
              "      <th>formation_id</th>\n",
              "      <td>0.395351</td>\n",
              "      <td>0.389533</td>\n",
              "      <td>0.215432</td>\n",
              "      <td>1.000000</td>\n",
              "      <td>0.133606</td>\n",
              "      <td>-0.200995</td>\n",
              "      <td>0.368591</td>\n",
              "      <td>0.368596</td>\n",
              "      <td>-0.191339</td>\n",
              "      <td>-0.205835</td>\n",
              "      <td>-0.131055</td>\n",
              "      <td>-0.209265</td>\n",
              "      <td>-0.099487</td>\n",
              "      <td>0.310635</td>\n",
              "      <td>-0.195398</td>\n",
              "    </tr>\n",
              "    <tr>\n",
              "      <th>bit_model_id</th>\n",
              "      <td>0.507179</td>\n",
              "      <td>0.527206</td>\n",
              "      <td>0.251886</td>\n",
              "      <td>0.133606</td>\n",
              "      <td>1.000000</td>\n",
              "      <td>0.006751</td>\n",
              "      <td>0.049958</td>\n",
              "      <td>0.049963</td>\n",
              "      <td>-0.121953</td>\n",
              "      <td>-0.061464</td>\n",
              "      <td>-0.194952</td>\n",
              "      <td>-0.109738</td>\n",
              "      <td>-0.159930</td>\n",
              "      <td>0.021954</td>\n",
              "      <td>-0.011174</td>\n",
              "    </tr>\n",
              "    <tr>\n",
              "      <th>drillbit_size</th>\n",
              "      <td>0.119224</td>\n",
              "      <td>0.173753</td>\n",
              "      <td>0.408059</td>\n",
              "      <td>-0.200995</td>\n",
              "      <td>0.006751</td>\n",
              "      <td>1.000000</td>\n",
              "      <td>-0.759038</td>\n",
              "      <td>-0.759030</td>\n",
              "      <td>0.309222</td>\n",
              "      <td>0.403836</td>\n",
              "      <td>0.322088</td>\n",
              "      <td>0.417867</td>\n",
              "      <td>-0.148173</td>\n",
              "      <td>-0.877919</td>\n",
              "      <td>0.985864</td>\n",
              "    </tr>\n",
              "    <tr>\n",
              "      <th>min_depth</th>\n",
              "      <td>0.062102</td>\n",
              "      <td>-0.002968</td>\n",
              "      <td>0.029099</td>\n",
              "      <td>0.368591</td>\n",
              "      <td>0.049958</td>\n",
              "      <td>-0.759038</td>\n",
              "      <td>1.000000</td>\n",
              "      <td>1.000000</td>\n",
              "      <td>-0.402306</td>\n",
              "      <td>-0.405611</td>\n",
              "      <td>-0.345680</td>\n",
              "      <td>-0.436077</td>\n",
              "      <td>0.034893</td>\n",
              "      <td>0.920658</td>\n",
              "      <td>-0.730186</td>\n",
              "    </tr>\n",
              "    <tr>\n",
              "      <th>max_depth</th>\n",
              "      <td>0.062112</td>\n",
              "      <td>-0.002958</td>\n",
              "      <td>0.029120</td>\n",
              "      <td>0.368596</td>\n",
              "      <td>0.049963</td>\n",
              "      <td>-0.759030</td>\n",
              "      <td>1.000000</td>\n",
              "      <td>1.000000</td>\n",
              "      <td>-0.402290</td>\n",
              "      <td>-0.405579</td>\n",
              "      <td>-0.345641</td>\n",
              "      <td>-0.436043</td>\n",
              "      <td>0.034924</td>\n",
              "      <td>0.920647</td>\n",
              "      <td>-0.730182</td>\n",
              "    </tr>\n",
              "    <tr>\n",
              "      <th>rate_of_penetration</th>\n",
              "      <td>-0.089781</td>\n",
              "      <td>-0.060850</td>\n",
              "      <td>-0.005844</td>\n",
              "      <td>-0.191339</td>\n",
              "      <td>-0.121953</td>\n",
              "      <td>0.309222</td>\n",
              "      <td>-0.402306</td>\n",
              "      <td>-0.402290</td>\n",
              "      <td>1.000000</td>\n",
              "      <td>0.508618</td>\n",
              "      <td>0.611703</td>\n",
              "      <td>0.643477</td>\n",
              "      <td>0.317429</td>\n",
              "      <td>-0.451866</td>\n",
              "      <td>0.247433</td>\n",
              "    </tr>\n",
              "    <tr>\n",
              "      <th>surface_weight_on_bit</th>\n",
              "      <td>-0.027253</td>\n",
              "      <td>-0.013532</td>\n",
              "      <td>0.253710</td>\n",
              "      <td>-0.205835</td>\n",
              "      <td>-0.061464</td>\n",
              "      <td>0.403836</td>\n",
              "      <td>-0.405611</td>\n",
              "      <td>-0.405579</td>\n",
              "      <td>0.508618</td>\n",
              "      <td>1.000000</td>\n",
              "      <td>0.449930</td>\n",
              "      <td>0.945723</td>\n",
              "      <td>0.820570</td>\n",
              "      <td>-0.447789</td>\n",
              "      <td>0.369099</td>\n",
              "    </tr>\n",
              "    <tr>\n",
              "      <th>surface_rpm</th>\n",
              "      <td>-0.101321</td>\n",
              "      <td>-0.111013</td>\n",
              "      <td>0.074842</td>\n",
              "      <td>-0.131055</td>\n",
              "      <td>-0.194952</td>\n",
              "      <td>0.322088</td>\n",
              "      <td>-0.345680</td>\n",
              "      <td>-0.345641</td>\n",
              "      <td>0.611703</td>\n",
              "      <td>0.449930</td>\n",
              "      <td>1.000000</td>\n",
              "      <td>0.690766</td>\n",
              "      <td>0.302752</td>\n",
              "      <td>-0.424847</td>\n",
              "      <td>0.267688</td>\n",
              "    </tr>\n",
              "    <tr>\n",
              "      <th>ratio1</th>\n",
              "      <td>-0.054682</td>\n",
              "      <td>-0.044446</td>\n",
              "      <td>0.214461</td>\n",
              "      <td>-0.209265</td>\n",
              "      <td>-0.109738</td>\n",
              "      <td>0.417867</td>\n",
              "      <td>-0.436077</td>\n",
              "      <td>-0.436043</td>\n",
              "      <td>0.643477</td>\n",
              "      <td>0.945723</td>\n",
              "      <td>0.690766</td>\n",
              "      <td>1.000000</td>\n",
              "      <td>0.749831</td>\n",
              "      <td>-0.486029</td>\n",
              "      <td>0.373926</td>\n",
              "    </tr>\n",
              "    <tr>\n",
              "      <th>ratio2</th>\n",
              "      <td>-0.138233</td>\n",
              "      <td>-0.163960</td>\n",
              "      <td>0.021816</td>\n",
              "      <td>-0.099487</td>\n",
              "      <td>-0.159930</td>\n",
              "      <td>-0.148173</td>\n",
              "      <td>0.034893</td>\n",
              "      <td>0.034924</td>\n",
              "      <td>0.317429</td>\n",
              "      <td>0.820570</td>\n",
              "      <td>0.302752</td>\n",
              "      <td>0.749831</td>\n",
              "      <td>1.000000</td>\n",
              "      <td>0.057364</td>\n",
              "      <td>-0.165418</td>\n",
              "    </tr>\n",
              "    <tr>\n",
              "      <th>ratio3</th>\n",
              "      <td>-0.020596</td>\n",
              "      <td>-0.077689</td>\n",
              "      <td>-0.149020</td>\n",
              "      <td>0.310635</td>\n",
              "      <td>0.021954</td>\n",
              "      <td>-0.877919</td>\n",
              "      <td>0.920658</td>\n",
              "      <td>0.920647</td>\n",
              "      <td>-0.451866</td>\n",
              "      <td>-0.447789</td>\n",
              "      <td>-0.424847</td>\n",
              "      <td>-0.486029</td>\n",
              "      <td>0.057364</td>\n",
              "      <td>1.000000</td>\n",
              "      <td>-0.812511</td>\n",
              "    </tr>\n",
              "    <tr>\n",
              "      <th>ratio4</th>\n",
              "      <td>0.106121</td>\n",
              "      <td>0.159723</td>\n",
              "      <td>0.392304</td>\n",
              "      <td>-0.195398</td>\n",
              "      <td>-0.011174</td>\n",
              "      <td>0.985864</td>\n",
              "      <td>-0.730186</td>\n",
              "      <td>-0.730182</td>\n",
              "      <td>0.247433</td>\n",
              "      <td>0.369099</td>\n",
              "      <td>0.267688</td>\n",
              "      <td>0.373926</td>\n",
              "      <td>-0.165418</td>\n",
              "      <td>-0.812511</td>\n",
              "      <td>1.000000</td>\n",
              "    </tr>\n",
              "  </tbody>\n",
              "</table>\n",
              "</div>"
            ],
            "text/plain": [
              "                       Unnamed: 0  wellbore_chev_no_id  ...    ratio3    ratio4\n",
              "Unnamed: 0               1.000000             0.983889  ... -0.020596  0.106121\n",
              "wellbore_chev_no_id      0.983889             1.000000  ... -0.077689  0.159723\n",
              "area_id                  0.362257             0.391052  ... -0.149020  0.392304\n",
              "formation_id             0.395351             0.389533  ...  0.310635 -0.195398\n",
              "bit_model_id             0.507179             0.527206  ...  0.021954 -0.011174\n",
              "drillbit_size            0.119224             0.173753  ... -0.877919  0.985864\n",
              "min_depth                0.062102            -0.002968  ...  0.920658 -0.730186\n",
              "max_depth                0.062112            -0.002958  ...  0.920647 -0.730182\n",
              "rate_of_penetration     -0.089781            -0.060850  ... -0.451866  0.247433\n",
              "surface_weight_on_bit   -0.027253            -0.013532  ... -0.447789  0.369099\n",
              "surface_rpm             -0.101321            -0.111013  ... -0.424847  0.267688\n",
              "ratio1                  -0.054682            -0.044446  ... -0.486029  0.373926\n",
              "ratio2                  -0.138233            -0.163960  ...  0.057364 -0.165418\n",
              "ratio3                  -0.020596            -0.077689  ...  1.000000 -0.812511\n",
              "ratio4                   0.106121             0.159723  ... -0.812511  1.000000\n",
              "\n",
              "[15 rows x 15 columns]"
            ]
          },
          "metadata": {
            "tags": []
          },
          "execution_count": 127
        }
      ]
    },
    {
      "cell_type": "code",
      "metadata": {
        "id": "NA-1cjV6m0U3",
        "colab_type": "code",
        "colab": {}
      },
      "source": [
        "a = True\n",
        "b = False\n",
        "X_array = [b, b, b, a, a, a, a, a, a, b, a, a, a, a, a, a]\n",
        "y_array = [b, b, b, b, b, b, b, b, b, a, b, b, b, b, b, b]"
      ],
      "execution_count": 0,
      "outputs": []
    },
    {
      "cell_type": "code",
      "metadata": {
        "id": "9jjB5dMkk9mR",
        "colab_type": "code",
        "colab": {}
      },
      "source": [
        "X = df_new_ratios.iloc[:, X_array].values\n",
        "y = df_new_ratios.iloc[:, y_array].values"
      ],
      "execution_count": 0,
      "outputs": []
    },
    {
      "cell_type": "code",
      "metadata": {
        "id": "9UUY0jWLlapR",
        "colab_type": "code",
        "colab": {}
      },
      "source": [
        "from sklearn.model_selection import train_test_split\n",
        "\n",
        "X_train, X_test, y_train, y_test = train_test_split(X,y,test_size = 0.2, random_state = 0)"
      ],
      "execution_count": 0,
      "outputs": []
    },
    {
      "cell_type": "code",
      "metadata": {
        "id": "Z6Zq-VlHlv5O",
        "colab_type": "code",
        "colab": {}
      },
      "source": [
        "# Feature Scaling\n",
        "from sklearn.preprocessing import StandardScaler\n",
        "\n",
        "sc = StandardScaler()\n",
        "X_train = sc.fit_transform(X_train)\n",
        "X_test = sc.transform(X_test)"
      ],
      "execution_count": 0,
      "outputs": []
    },
    {
      "cell_type": "code",
      "metadata": {
        "id": "ATWu7AAfl1aC",
        "colab_type": "code",
        "colab": {
          "base_uri": "https://localhost:8080/",
          "height": 71
        },
        "outputId": "82ec2363-e32f-4f5c-cdb8-b399ef2efcf6"
      },
      "source": [
        "from sklearn.ensemble import RandomForestRegressor\n",
        "\n",
        "regressor = RandomForestRegressor(n_estimators=500, random_state=0)\n",
        "regressor.fit(X_train, y_train)\n",
        "y_pred = regressor.predict(X_test)"
      ],
      "execution_count": 199,
      "outputs": [
        {
          "output_type": "stream",
          "text": [
            "/usr/local/lib/python3.6/dist-packages/ipykernel_launcher.py:4: DataConversionWarning: A column-vector y was passed when a 1d array was expected. Please change the shape of y to (n_samples,), for example using ravel().\n",
            "  after removing the cwd from sys.path.\n"
          ],
          "name": "stderr"
        }
      ]
    },
    {
      "cell_type": "code",
      "metadata": {
        "id": "HIvwOksOmHvp",
        "colab_type": "code",
        "colab": {
          "base_uri": "https://localhost:8080/",
          "height": 68
        },
        "outputId": "22016263-a12a-4398-d25f-ded8e1969061"
      },
      "source": [
        "from sklearn import metrics\n",
        "\n",
        "print('Mean Absolute Error:', metrics.mean_absolute_error(y_test, y_pred))\n",
        "print('Mean Squared Error:', metrics.mean_squared_error(y_test, y_pred))\n",
        "print('Root Mean Squared Error:', np.sqrt(metrics.mean_squared_error(y_test, y_pred)))"
      ],
      "execution_count": 200,
      "outputs": [
        {
          "output_type": "stream",
          "text": [
            "Mean Absolute Error: 11.102899338394971\n",
            "Mean Squared Error: 352.58319798152644\n",
            "Root Mean Squared Error: 18.77719888539093\n"
          ],
          "name": "stdout"
        }
      ]
    }
  ]
}