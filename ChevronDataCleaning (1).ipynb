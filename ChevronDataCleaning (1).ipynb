{
 "cells": [
  {
   "cell_type": "code",
   "execution_count": 1,
   "metadata": {},
   "outputs": [],
   "source": [
    "import pandas as pd\n",
    "import numpy as np"
   ]
  },
  {
   "cell_type": "code",
   "execution_count": 2,
   "metadata": {},
   "outputs": [],
   "source": [
    "data = pd.read_csv('/Users/kunal/Downloads/filesForStartOfDatathon/training.csv')"
   ]
  },
  {
   "cell_type": "code",
   "execution_count": 3,
   "metadata": {},
   "outputs": [
    {
     "data": {
      "text/html": [
       "<div>\n",
       "<style scoped>\n",
       "    .dataframe tbody tr th:only-of-type {\n",
       "        vertical-align: middle;\n",
       "    }\n",
       "\n",
       "    .dataframe tbody tr th {\n",
       "        vertical-align: top;\n",
       "    }\n",
       "\n",
       "    .dataframe thead th {\n",
       "        text-align: right;\n",
       "    }\n",
       "</style>\n",
       "<table border=\"1\" class=\"dataframe\">\n",
       "  <thead>\n",
       "    <tr style=\"text-align: right;\">\n",
       "      <th></th>\n",
       "      <th>segment_id</th>\n",
       "      <th>wellbore_chev_no_id</th>\n",
       "      <th>area_id</th>\n",
       "      <th>formation_id</th>\n",
       "      <th>bit_model_id</th>\n",
       "      <th>drillbit_size</th>\n",
       "      <th>min_depth</th>\n",
       "      <th>max_depth</th>\n",
       "      <th>rate_of_penetration</th>\n",
       "      <th>surface_weight_on_bit</th>\n",
       "      <th>surface_rpm</th>\n",
       "    </tr>\n",
       "  </thead>\n",
       "  <tbody>\n",
       "    <tr>\n",
       "      <td>0</td>\n",
       "      <td>wellbore_chev_no_0_727</td>\n",
       "      <td>wellbore_chev_no_0</td>\n",
       "      <td>area_0</td>\n",
       "      <td>formation_62</td>\n",
       "      <td>bit_model_1</td>\n",
       "      <td>12.25</td>\n",
       "      <td>21834.5</td>\n",
       "      <td>21839.5</td>\n",
       "      <td>99.614650</td>\n",
       "      <td>43.533280</td>\n",
       "      <td>150.369091</td>\n",
       "    </tr>\n",
       "    <tr>\n",
       "      <td>1</td>\n",
       "      <td>wellbore_chev_no_0_728</td>\n",
       "      <td>wellbore_chev_no_0</td>\n",
       "      <td>area_0</td>\n",
       "      <td>formation_61</td>\n",
       "      <td>bit_model_1</td>\n",
       "      <td>12.25</td>\n",
       "      <td>21840.0</td>\n",
       "      <td>21869.5</td>\n",
       "      <td>99.354021</td>\n",
       "      <td>42.382033</td>\n",
       "      <td>150.369001</td>\n",
       "    </tr>\n",
       "    <tr>\n",
       "      <td>2</td>\n",
       "      <td>wellbore_chev_no_0_729</td>\n",
       "      <td>wellbore_chev_no_0</td>\n",
       "      <td>area_0</td>\n",
       "      <td>formation_59</td>\n",
       "      <td>bit_model_1</td>\n",
       "      <td>12.25</td>\n",
       "      <td>21870.0</td>\n",
       "      <td>21899.5</td>\n",
       "      <td>83.622907</td>\n",
       "      <td>48.675129</td>\n",
       "      <td>150.429335</td>\n",
       "    </tr>\n",
       "    <tr>\n",
       "      <td>3</td>\n",
       "      <td>wellbore_chev_no_0_730</td>\n",
       "      <td>wellbore_chev_no_0</td>\n",
       "      <td>area_0</td>\n",
       "      <td>formation_65</td>\n",
       "      <td>bit_model_1</td>\n",
       "      <td>12.25</td>\n",
       "      <td>21900.0</td>\n",
       "      <td>21929.5</td>\n",
       "      <td>85.427731</td>\n",
       "      <td>30.041290</td>\n",
       "      <td>150.080000</td>\n",
       "    </tr>\n",
       "    <tr>\n",
       "      <td>4</td>\n",
       "      <td>wellbore_chev_no_0_731</td>\n",
       "      <td>wellbore_chev_no_0</td>\n",
       "      <td>area_0</td>\n",
       "      <td>formation_65</td>\n",
       "      <td>bit_model_1</td>\n",
       "      <td>12.25</td>\n",
       "      <td>21930.0</td>\n",
       "      <td>21959.5</td>\n",
       "      <td>100.639811</td>\n",
       "      <td>31.406319</td>\n",
       "      <td>150.032167</td>\n",
       "    </tr>\n",
       "  </tbody>\n",
       "</table>\n",
       "</div>"
      ],
      "text/plain": [
       "               segment_id wellbore_chev_no_id area_id  formation_id  \\\n",
       "0  wellbore_chev_no_0_727  wellbore_chev_no_0  area_0  formation_62   \n",
       "1  wellbore_chev_no_0_728  wellbore_chev_no_0  area_0  formation_61   \n",
       "2  wellbore_chev_no_0_729  wellbore_chev_no_0  area_0  formation_59   \n",
       "3  wellbore_chev_no_0_730  wellbore_chev_no_0  area_0  formation_65   \n",
       "4  wellbore_chev_no_0_731  wellbore_chev_no_0  area_0  formation_65   \n",
       "\n",
       "  bit_model_id  drillbit_size  min_depth  max_depth  rate_of_penetration  \\\n",
       "0  bit_model_1          12.25    21834.5    21839.5            99.614650   \n",
       "1  bit_model_1          12.25    21840.0    21869.5            99.354021   \n",
       "2  bit_model_1          12.25    21870.0    21899.5            83.622907   \n",
       "3  bit_model_1          12.25    21900.0    21929.5            85.427731   \n",
       "4  bit_model_1          12.25    21930.0    21959.5           100.639811   \n",
       "\n",
       "   surface_weight_on_bit  surface_rpm  \n",
       "0              43.533280   150.369091  \n",
       "1              42.382033   150.369001  \n",
       "2              48.675129   150.429335  \n",
       "3              30.041290   150.080000  \n",
       "4              31.406319   150.032167  "
      ]
     },
     "execution_count": 3,
     "metadata": {},
     "output_type": "execute_result"
    }
   ],
   "source": [
    "data.head()"
   ]
  },
  {
   "cell_type": "code",
   "execution_count": 7,
   "metadata": {},
   "outputs": [],
   "source": [
    "wellbores = data.wellbore_chev_no_id.unique()\n",
    "area = data.area_id.unique()\n",
    "formation = data.formation_id.unique()\n",
    "bitmodel = data.bit_model_id.unique()\n",
    "wellbore_dict = dict(zip(wellbores, range(len(wellbores))))\n",
    "area_dict = dict(zip(area, range(len(area))))\n",
    "formation_dict = dict(zip(formation, range(len(formation))))\n",
    "bitmodel_dict = dict(zip(bitmodel, range(len(bitmodel))))"
   ]
  },
  {
   "cell_type": "code",
   "execution_count": 11,
   "metadata": {},
   "outputs": [],
   "source": [
    "wellbores_col = data.wellbore_chev_no_id"
   ]
  },
  {
   "cell_type": "code",
   "execution_count": 15,
   "metadata": {},
   "outputs": [],
   "source": [
    "wellbores_col = wellbores_col.map(wellbore_dict)"
   ]
  },
  {
   "cell_type": "code",
   "execution_count": 16,
   "metadata": {},
   "outputs": [],
   "source": [
    "data.wellbore_chev_no_id = wellbores_col"
   ]
  },
  {
   "cell_type": "code",
   "execution_count": 18,
   "metadata": {},
   "outputs": [],
   "source": [
    "area_col = data.area_id"
   ]
  },
  {
   "cell_type": "code",
   "execution_count": 19,
   "metadata": {},
   "outputs": [],
   "source": [
    "area_col = area_col.map(area_dict)"
   ]
  },
  {
   "cell_type": "code",
   "execution_count": 20,
   "metadata": {},
   "outputs": [],
   "source": [
    "data.area_id = area_col"
   ]
  },
  {
   "cell_type": "code",
   "execution_count": 21,
   "metadata": {},
   "outputs": [],
   "source": [
    "formation_col = data.formation_id\n",
    "formation_col = formation_col.map(formation_dict)\n",
    "data.formation_id = formation_col"
   ]
  },
  {
   "cell_type": "code",
   "execution_count": 22,
   "metadata": {},
   "outputs": [],
   "source": [
    "bit_col = data.bit_model_id\n",
    "bit_col = bit_col.map(bitmodel_dict)\n",
    "data.bit_model_id = bit_col"
   ]
  },
  {
   "cell_type": "code",
   "execution_count": 93,
   "metadata": {},
   "outputs": [],
   "source": [
    "data['ratio1'] = data.surface_rpm * data.surface_weight_on_bit\n",
    "data['ratio2'] = data.surface_weight_on_bit / data.drillbit_size\n",
    "data['ratio3'] = data.min_depth / data.drillbit_size\n",
    "data['ratio4'] = np.pi*((data.drillbit_size)/2)**2"
   ]
  },
  {
   "cell_type": "code",
   "execution_count": 94,
   "metadata": {},
   "outputs": [
    {
     "data": {
      "text/html": [
       "<div>\n",
       "<style scoped>\n",
       "    .dataframe tbody tr th:only-of-type {\n",
       "        vertical-align: middle;\n",
       "    }\n",
       "\n",
       "    .dataframe tbody tr th {\n",
       "        vertical-align: top;\n",
       "    }\n",
       "\n",
       "    .dataframe thead th {\n",
       "        text-align: right;\n",
       "    }\n",
       "</style>\n",
       "<table border=\"1\" class=\"dataframe\">\n",
       "  <thead>\n",
       "    <tr style=\"text-align: right;\">\n",
       "      <th></th>\n",
       "      <th>segment_id</th>\n",
       "      <th>wellbore_chev_no_id</th>\n",
       "      <th>area_id</th>\n",
       "      <th>formation_id</th>\n",
       "      <th>bit_model_id</th>\n",
       "      <th>drillbit_size</th>\n",
       "      <th>min_depth</th>\n",
       "      <th>max_depth</th>\n",
       "      <th>rate_of_penetration</th>\n",
       "      <th>surface_weight_on_bit</th>\n",
       "      <th>surface_rpm</th>\n",
       "      <th>ratio1</th>\n",
       "      <th>ratio2</th>\n",
       "      <th>ratio3</th>\n",
       "      <th>ratio4</th>\n",
       "    </tr>\n",
       "  </thead>\n",
       "  <tbody>\n",
       "    <tr>\n",
       "      <td>0</td>\n",
       "      <td>wellbore_chev_no_0_727</td>\n",
       "      <td>0</td>\n",
       "      <td>0</td>\n",
       "      <td>0</td>\n",
       "      <td>0</td>\n",
       "      <td>12.25</td>\n",
       "      <td>21834.5</td>\n",
       "      <td>21839.5</td>\n",
       "      <td>99.614650</td>\n",
       "      <td>43.533280</td>\n",
       "      <td>150.369091</td>\n",
       "      <td>6546.059694</td>\n",
       "      <td>3.553737</td>\n",
       "      <td>1782.408163</td>\n",
       "      <td>117.858812</td>\n",
       "    </tr>\n",
       "    <tr>\n",
       "      <td>1</td>\n",
       "      <td>wellbore_chev_no_0_728</td>\n",
       "      <td>0</td>\n",
       "      <td>0</td>\n",
       "      <td>1</td>\n",
       "      <td>0</td>\n",
       "      <td>12.25</td>\n",
       "      <td>21840.0</td>\n",
       "      <td>21869.5</td>\n",
       "      <td>99.354021</td>\n",
       "      <td>42.382033</td>\n",
       "      <td>150.369001</td>\n",
       "      <td>6372.943939</td>\n",
       "      <td>3.459758</td>\n",
       "      <td>1782.857143</td>\n",
       "      <td>117.858812</td>\n",
       "    </tr>\n",
       "    <tr>\n",
       "      <td>2</td>\n",
       "      <td>wellbore_chev_no_0_729</td>\n",
       "      <td>0</td>\n",
       "      <td>0</td>\n",
       "      <td>2</td>\n",
       "      <td>0</td>\n",
       "      <td>12.25</td>\n",
       "      <td>21870.0</td>\n",
       "      <td>21899.5</td>\n",
       "      <td>83.622907</td>\n",
       "      <td>48.675129</td>\n",
       "      <td>150.429335</td>\n",
       "      <td>7322.167196</td>\n",
       "      <td>3.973480</td>\n",
       "      <td>1785.306122</td>\n",
       "      <td>117.858812</td>\n",
       "    </tr>\n",
       "    <tr>\n",
       "      <td>3</td>\n",
       "      <td>wellbore_chev_no_0_730</td>\n",
       "      <td>0</td>\n",
       "      <td>0</td>\n",
       "      <td>3</td>\n",
       "      <td>0</td>\n",
       "      <td>12.25</td>\n",
       "      <td>21900.0</td>\n",
       "      <td>21929.5</td>\n",
       "      <td>85.427731</td>\n",
       "      <td>30.041290</td>\n",
       "      <td>150.080000</td>\n",
       "      <td>4508.596850</td>\n",
       "      <td>2.452350</td>\n",
       "      <td>1787.755102</td>\n",
       "      <td>117.858812</td>\n",
       "    </tr>\n",
       "    <tr>\n",
       "      <td>4</td>\n",
       "      <td>wellbore_chev_no_0_731</td>\n",
       "      <td>0</td>\n",
       "      <td>0</td>\n",
       "      <td>3</td>\n",
       "      <td>0</td>\n",
       "      <td>12.25</td>\n",
       "      <td>21930.0</td>\n",
       "      <td>21959.5</td>\n",
       "      <td>100.639811</td>\n",
       "      <td>31.406319</td>\n",
       "      <td>150.032167</td>\n",
       "      <td>4711.958130</td>\n",
       "      <td>2.563781</td>\n",
       "      <td>1790.204082</td>\n",
       "      <td>117.858812</td>\n",
       "    </tr>\n",
       "  </tbody>\n",
       "</table>\n",
       "</div>"
      ],
      "text/plain": [
       "               segment_id  wellbore_chev_no_id  area_id  formation_id  \\\n",
       "0  wellbore_chev_no_0_727                    0        0             0   \n",
       "1  wellbore_chev_no_0_728                    0        0             1   \n",
       "2  wellbore_chev_no_0_729                    0        0             2   \n",
       "3  wellbore_chev_no_0_730                    0        0             3   \n",
       "4  wellbore_chev_no_0_731                    0        0             3   \n",
       "\n",
       "   bit_model_id  drillbit_size  min_depth  max_depth  rate_of_penetration  \\\n",
       "0             0          12.25    21834.5    21839.5            99.614650   \n",
       "1             0          12.25    21840.0    21869.5            99.354021   \n",
       "2             0          12.25    21870.0    21899.5            83.622907   \n",
       "3             0          12.25    21900.0    21929.5            85.427731   \n",
       "4             0          12.25    21930.0    21959.5           100.639811   \n",
       "\n",
       "   surface_weight_on_bit  surface_rpm       ratio1    ratio2       ratio3  \\\n",
       "0              43.533280   150.369091  6546.059694  3.553737  1782.408163   \n",
       "1              42.382033   150.369001  6372.943939  3.459758  1782.857143   \n",
       "2              48.675129   150.429335  7322.167196  3.973480  1785.306122   \n",
       "3              30.041290   150.080000  4508.596850  2.452350  1787.755102   \n",
       "4              31.406319   150.032167  4711.958130  2.563781  1790.204082   \n",
       "\n",
       "       ratio4  \n",
       "0  117.858812  \n",
       "1  117.858812  \n",
       "2  117.858812  \n",
       "3  117.858812  \n",
       "4  117.858812  "
      ]
     },
     "execution_count": 94,
     "metadata": {},
     "output_type": "execute_result"
    }
   ],
   "source": [
    "data.head()"
   ]
  },
  {
   "cell_type": "code",
   "execution_count": 95,
   "metadata": {},
   "outputs": [],
   "source": [
    "# data.to_csv('/Users/kunal/Downloads/filesForStartOfDatathon/numerical_chevron_data.csv')"
   ]
  },
  {
   "cell_type": "code",
   "execution_count": 124,
   "metadata": {},
   "outputs": [
    {
     "data": {
      "text/plain": [
       "wellbore_chev_no_id     -0.060850\n",
       "area_id                 -0.005844\n",
       "formation_id            -0.191339\n",
       "bit_model_id            -0.121953\n",
       "drillbit_size            0.309222\n",
       "min_depth               -0.402306\n",
       "max_depth               -0.402290\n",
       "rate_of_penetration      1.000000\n",
       "surface_weight_on_bit    0.508618\n",
       "surface_rpm              0.611703\n",
       "ratio1                   0.643477\n",
       "ratio2                   0.317429\n",
       "ratio3                  -0.451866\n",
       "ratio4                   0.247433\n",
       "Name: rate_of_penetration, dtype: float64"
      ]
     },
     "execution_count": 124,
     "metadata": {},
     "output_type": "execute_result"
    }
   ],
   "source": [
    "data[data.columns[1:]].corr()['rate_of_penetration'][:]"
   ]
  },
  {
   "cell_type": "code",
   "execution_count": 125,
   "metadata": {},
   "outputs": [],
   "source": [
    "# data.to_csv('/Users/kunal/Downloads/filesForStartOfDatathon/new_data_ratios.csv')"
   ]
  },
  {
   "cell_type": "code",
   "execution_count": 134,
   "metadata": {},
   "outputs": [],
   "source": [
    "from sklearn.datasets import load_breast_cancer, load_diabetes, load_wine\n",
    "from sklearn.metrics import auc, accuracy_score, confusion_matrix, mean_squared_error\n",
    "from sklearn.model_selection import cross_val_score, GridSearchCV, KFold, RandomizedSearchCV, train_test_split\n",
    "from sklearn.model_selection import train_test_split\n",
    "import xgboost as xgb\n",
    "from xgboost.sklearn import XGBRegressor\n",
    "from sklearn.linear_model import ElasticNet\n",
    "from sklearn.datasets import make_regression\n",
    "from sklearn.ensemble import RandomForestRegressor\n",
    "from sklearn.datasets import make_regression"
   ]
  },
  {
   "cell_type": "code",
   "execution_count": 127,
   "metadata": {},
   "outputs": [],
   "source": [
    "y = data.rate_of_penetration"
   ]
  },
  {
   "cell_type": "code",
   "execution_count": 145,
   "metadata": {},
   "outputs": [],
   "source": [
    "X = data.drop(columns=['rate_of_penetration','segment_id', 'area_id', 'formation_id', 'bit_model_id'])\n",
    "# ','min_depth','max_depth'"
   ]
  },
  {
   "cell_type": "code",
   "execution_count": 146,
   "metadata": {},
   "outputs": [
    {
     "data": {
      "text/plain": [
       "ElasticNet(alpha=1.0, copy_X=True, fit_intercept=True, l1_ratio=0.5,\n",
       "           max_iter=1000, normalize=False, positive=False, precompute=False,\n",
       "           random_state=0, selection='cyclic', tol=0.1, warm_start=False)"
      ]
     },
     "execution_count": 146,
     "metadata": {},
     "output_type": "execute_result"
    }
   ],
   "source": [
    "X, y = make_regression(n_features= 2, random_state=0)\n",
    "regr = ElasticNet(random_state=0, tol = 0.1)\n",
    "regr.fit(X_train, y_train)"
   ]
  },
  {
   "cell_type": "code",
   "execution_count": 147,
   "metadata": {},
   "outputs": [],
   "source": [
    "X_train, X_test, y_train, y_test = train_test_split(X, y, test_size=0.30, random_state=42)"
   ]
  },
  {
   "cell_type": "code",
   "execution_count": 148,
   "metadata": {},
   "outputs": [
    {
     "data": {
      "text/plain": [
       "RandomForestRegressor(bootstrap=True, criterion='mse', max_depth=None,\n",
       "                      max_features='auto', max_leaf_nodes=None,\n",
       "                      min_impurity_decrease=0.0, min_impurity_split=None,\n",
       "                      min_samples_leaf=1, min_samples_split=2,\n",
       "                      min_weight_fraction_leaf=0.0, n_estimators=300,\n",
       "                      n_jobs=None, oob_score=False, random_state=0, verbose=0,\n",
       "                      warm_start=False)"
      ]
     },
     "execution_count": 148,
     "metadata": {},
     "output_type": "execute_result"
    }
   ],
   "source": [
    "# xgb_model = xgb.XGBRegressor(objective=\"reg:squarederror\", random_state=42)\n",
    "# xgbr = xgb.XGBRegressor() \n",
    "# XGBRegressor(base_score=0.8, booster='gbtree', colsample_bylevel=1,\n",
    "#        colsample_bynode=1, colsample_bytree=1, gamma=0,\n",
    "#        importance_type='gain', learning_rate=0.2, max_delta_step=0,\n",
    "#        max_depth=7, min_child_weight=1, missing=None, n_estimators=350,\n",
    "#        n_jobs=1, nthread=None, objective='reg:squarederror', random_state=0,\n",
    "#        reg_alpha=0, reg_lambda=1, scale_pos_weight=1, seed=None,\n",
    "#        silent=None, subsample=1, verbosity=1)\n",
    "regressor = RandomForestRegressor(n_estimators = 300, random_state = 0, criterion = 'mse', max_depth = None, max_features = 'auto', max_leaf_nodes = None)\n",
    "regressor.fit(X_train, y_train)"
   ]
  },
  {
   "cell_type": "code",
   "execution_count": 149,
   "metadata": {},
   "outputs": [
    {
     "name": "stdout",
     "output_type": "stream",
     "text": [
      "24.739326485035694\n"
     ]
    }
   ],
   "source": [
    "# xgbr.fit(X_train, y_train)\n",
    "\n",
    "y_pred = regressor.predict(X_test)\n",
    "\n",
    "mse=mean_squared_error(y_test, y_pred)\n",
    "\n",
    "print(np.sqrt(mse))"
   ]
  },
  {
   "cell_type": "code",
   "execution_count": null,
   "metadata": {},
   "outputs": [],
   "source": []
  }
 ],
 "metadata": {
  "kernelspec": {
   "display_name": "Python 3",
   "language": "python",
   "name": "python3"
  },
  "language_info": {
   "codemirror_mode": {
    "name": "ipython",
    "version": 3
   },
   "file_extension": ".py",
   "mimetype": "text/x-python",
   "name": "python",
   "nbconvert_exporter": "python",
   "pygments_lexer": "ipython3",
   "version": "3.7.4"
  }
 },
 "nbformat": 4,
 "nbformat_minor": 2
}
