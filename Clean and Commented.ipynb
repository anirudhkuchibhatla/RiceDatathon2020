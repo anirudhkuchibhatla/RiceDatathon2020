{
 "cells": [
  {
   "cell_type": "code",
   "execution_count": 187,
   "metadata": {},
   "outputs": [],
   "source": [
    "import pandas as pd\n",
    "import numpy as np"
   ]
  },
  {
   "cell_type": "markdown",
   "metadata": {},
   "source": [
    "#### Data Reading:"
   ]
  },
  {
   "cell_type": "code",
   "execution_count": 226,
   "metadata": {},
   "outputs": [],
   "source": [
    "data = pd.read_csv(r\"C:\\Users\\patrick\\Documents\\Rice\\Datathon\\training.csv\")"
   ]
  },
  {
   "cell_type": "code",
   "execution_count": 227,
   "metadata": {},
   "outputs": [
    {
     "data": {
      "text/html": [
       "<div>\n",
       "<style scoped>\n",
       "    .dataframe tbody tr th:only-of-type {\n",
       "        vertical-align: middle;\n",
       "    }\n",
       "\n",
       "    .dataframe tbody tr th {\n",
       "        vertical-align: top;\n",
       "    }\n",
       "\n",
       "    .dataframe thead th {\n",
       "        text-align: right;\n",
       "    }\n",
       "</style>\n",
       "<table border=\"1\" class=\"dataframe\">\n",
       "  <thead>\n",
       "    <tr style=\"text-align: right;\">\n",
       "      <th></th>\n",
       "      <th>segment_id</th>\n",
       "      <th>wellbore_chev_no_id</th>\n",
       "      <th>area_id</th>\n",
       "      <th>formation_id</th>\n",
       "      <th>bit_model_id</th>\n",
       "      <th>drillbit_size</th>\n",
       "      <th>min_depth</th>\n",
       "      <th>max_depth</th>\n",
       "      <th>rate_of_penetration</th>\n",
       "      <th>surface_weight_on_bit</th>\n",
       "      <th>surface_rpm</th>\n",
       "    </tr>\n",
       "  </thead>\n",
       "  <tbody>\n",
       "    <tr>\n",
       "      <th>0</th>\n",
       "      <td>wellbore_chev_no_0_727</td>\n",
       "      <td>wellbore_chev_no_0</td>\n",
       "      <td>area_0</td>\n",
       "      <td>formation_62</td>\n",
       "      <td>bit_model_1</td>\n",
       "      <td>12.25</td>\n",
       "      <td>21834.5</td>\n",
       "      <td>21839.5</td>\n",
       "      <td>99.614650</td>\n",
       "      <td>43.533280</td>\n",
       "      <td>150.369091</td>\n",
       "    </tr>\n",
       "    <tr>\n",
       "      <th>1</th>\n",
       "      <td>wellbore_chev_no_0_728</td>\n",
       "      <td>wellbore_chev_no_0</td>\n",
       "      <td>area_0</td>\n",
       "      <td>formation_61</td>\n",
       "      <td>bit_model_1</td>\n",
       "      <td>12.25</td>\n",
       "      <td>21840.0</td>\n",
       "      <td>21869.5</td>\n",
       "      <td>99.354021</td>\n",
       "      <td>42.382033</td>\n",
       "      <td>150.369001</td>\n",
       "    </tr>\n",
       "    <tr>\n",
       "      <th>2</th>\n",
       "      <td>wellbore_chev_no_0_729</td>\n",
       "      <td>wellbore_chev_no_0</td>\n",
       "      <td>area_0</td>\n",
       "      <td>formation_59</td>\n",
       "      <td>bit_model_1</td>\n",
       "      <td>12.25</td>\n",
       "      <td>21870.0</td>\n",
       "      <td>21899.5</td>\n",
       "      <td>83.622907</td>\n",
       "      <td>48.675129</td>\n",
       "      <td>150.429335</td>\n",
       "    </tr>\n",
       "    <tr>\n",
       "      <th>3</th>\n",
       "      <td>wellbore_chev_no_0_730</td>\n",
       "      <td>wellbore_chev_no_0</td>\n",
       "      <td>area_0</td>\n",
       "      <td>formation_65</td>\n",
       "      <td>bit_model_1</td>\n",
       "      <td>12.25</td>\n",
       "      <td>21900.0</td>\n",
       "      <td>21929.5</td>\n",
       "      <td>85.427731</td>\n",
       "      <td>30.041290</td>\n",
       "      <td>150.080000</td>\n",
       "    </tr>\n",
       "    <tr>\n",
       "      <th>4</th>\n",
       "      <td>wellbore_chev_no_0_731</td>\n",
       "      <td>wellbore_chev_no_0</td>\n",
       "      <td>area_0</td>\n",
       "      <td>formation_65</td>\n",
       "      <td>bit_model_1</td>\n",
       "      <td>12.25</td>\n",
       "      <td>21930.0</td>\n",
       "      <td>21959.5</td>\n",
       "      <td>100.639811</td>\n",
       "      <td>31.406319</td>\n",
       "      <td>150.032167</td>\n",
       "    </tr>\n",
       "  </tbody>\n",
       "</table>\n",
       "</div>"
      ],
      "text/plain": [
       "               segment_id wellbore_chev_no_id area_id  formation_id  \\\n",
       "0  wellbore_chev_no_0_727  wellbore_chev_no_0  area_0  formation_62   \n",
       "1  wellbore_chev_no_0_728  wellbore_chev_no_0  area_0  formation_61   \n",
       "2  wellbore_chev_no_0_729  wellbore_chev_no_0  area_0  formation_59   \n",
       "3  wellbore_chev_no_0_730  wellbore_chev_no_0  area_0  formation_65   \n",
       "4  wellbore_chev_no_0_731  wellbore_chev_no_0  area_0  formation_65   \n",
       "\n",
       "  bit_model_id  drillbit_size  min_depth  max_depth  rate_of_penetration  \\\n",
       "0  bit_model_1          12.25    21834.5    21839.5            99.614650   \n",
       "1  bit_model_1          12.25    21840.0    21869.5            99.354021   \n",
       "2  bit_model_1          12.25    21870.0    21899.5            83.622907   \n",
       "3  bit_model_1          12.25    21900.0    21929.5            85.427731   \n",
       "4  bit_model_1          12.25    21930.0    21959.5           100.639811   \n",
       "\n",
       "   surface_weight_on_bit  surface_rpm  \n",
       "0              43.533280   150.369091  \n",
       "1              42.382033   150.369001  \n",
       "2              48.675129   150.429335  \n",
       "3              30.041290   150.080000  \n",
       "4              31.406319   150.032167  "
      ]
     },
     "execution_count": 227,
     "metadata": {},
     "output_type": "execute_result"
    }
   ],
   "source": [
    "data.head()"
   ]
  },
  {
   "cell_type": "markdown",
   "metadata": {},
   "source": [
    "#### Data Cleaning:"
   ]
  },
  {
   "cell_type": "code",
   "execution_count": 228,
   "metadata": {},
   "outputs": [],
   "source": [
    "# create dictionaries from unigue entries\n",
    "wellbores = data.wellbore_chev_no_id.unique()\n",
    "area = data.area_id.unique()\n",
    "formation = data.formation_id.unique()\n",
    "bitmodel = data.bit_model_id.unique()\n",
    "wellbore_dict = dict(zip(wellbores, range(len(wellbores))))\n",
    "area_dict = dict(zip(area, range(len(area))))\n",
    "formation_dict = dict(zip(formation, range(len(formation))))\n",
    "bitmodel_dict = dict(zip(bitmodel, range(len(bitmodel))))"
   ]
  },
  {
   "cell_type": "code",
   "execution_count": 229,
   "metadata": {},
   "outputs": [],
   "source": [
    "# map wellbores to unique integers\n",
    "wellbores_col = data.wellbore_chev_no_id\n",
    "wellbores_col = wellbores_col.map(wellbore_dict)\n",
    "data.wellbore_chev_no_id = wellbores_col"
   ]
  },
  {
   "cell_type": "code",
   "execution_count": 230,
   "metadata": {},
   "outputs": [],
   "source": [
    "# map areas to unique integers\n",
    "area_col = data.area_id\n",
    "area_col = area_col.map(area_dict)\n",
    "data.area_id = area_col"
   ]
  },
  {
   "cell_type": "code",
   "execution_count": 231,
   "metadata": {},
   "outputs": [],
   "source": [
    "# map formations to unique integers\n",
    "formation_col = data.formation_id\n",
    "formation_col = formation_col.map(formation_dict)\n",
    "data.formation_id = formation_col"
   ]
  },
  {
   "cell_type": "code",
   "execution_count": 232,
   "metadata": {},
   "outputs": [],
   "source": [
    "# map bitmodels to unique integers\n",
    "bit_col = data.bit_model_id\n",
    "bit_col = bit_col.map(bitmodel_dict)\n",
    "data.bit_model_id = bit_col"
   ]
  },
  {
   "cell_type": "code",
   "execution_count": 233,
   "metadata": {},
   "outputs": [],
   "source": [
    "# removing outliers\n",
    "data = data.drop(columns=['segment_id'])\n",
    "data = data[(np.abs(stats.zscore(data)) < 3).all(axis=1)]"
   ]
  },
  {
   "cell_type": "markdown",
   "metadata": {},
   "source": [
    "#### Feature Engineering:"
   ]
  },
  {
   "cell_type": "code",
   "execution_count": 234,
   "metadata": {},
   "outputs": [],
   "source": [
    "# from discovered formulas, create new features that could have more bearing on ROP\n",
    "data['rpm*wob'] = data.surface_rpm * data.surface_weight_on_bit\n",
    "data['wob/bit_size'] = data.surface_weight_on_bit / data.drillbit_size\n",
    "data['min_depth/bit_size'] = data.min_depth / data.drillbit_size\n",
    "# data['ratio4'] = np.pi*((data.drillbit_size)/2)**2\n",
    "# data['ratio5'] = (data.surface_rpm**.75) * (data.surface_weight_on_bit / data.drillbit_size)**.3\n",
    "# data['ratio6'] = data.surface_rpm / (data.ratio4 - data.surface_weight_on_bit)"
   ]
  },
  {
   "cell_type": "code",
   "execution_count": 235,
   "metadata": {},
   "outputs": [
    {
     "data": {
      "text/html": [
       "<div>\n",
       "<style scoped>\n",
       "    .dataframe tbody tr th:only-of-type {\n",
       "        vertical-align: middle;\n",
       "    }\n",
       "\n",
       "    .dataframe tbody tr th {\n",
       "        vertical-align: top;\n",
       "    }\n",
       "\n",
       "    .dataframe thead th {\n",
       "        text-align: right;\n",
       "    }\n",
       "</style>\n",
       "<table border=\"1\" class=\"dataframe\">\n",
       "  <thead>\n",
       "    <tr style=\"text-align: right;\">\n",
       "      <th></th>\n",
       "      <th>wellbore_chev_no_id</th>\n",
       "      <th>area_id</th>\n",
       "      <th>formation_id</th>\n",
       "      <th>bit_model_id</th>\n",
       "      <th>drillbit_size</th>\n",
       "      <th>min_depth</th>\n",
       "      <th>max_depth</th>\n",
       "      <th>rate_of_penetration</th>\n",
       "      <th>surface_weight_on_bit</th>\n",
       "      <th>surface_rpm</th>\n",
       "      <th>rpm*wob</th>\n",
       "      <th>wob/bit_size</th>\n",
       "      <th>min_depth/bit_size</th>\n",
       "    </tr>\n",
       "  </thead>\n",
       "  <tbody>\n",
       "    <tr>\n",
       "      <th>0</th>\n",
       "      <td>0</td>\n",
       "      <td>0</td>\n",
       "      <td>0</td>\n",
       "      <td>0</td>\n",
       "      <td>12.25</td>\n",
       "      <td>21834.5</td>\n",
       "      <td>21839.5</td>\n",
       "      <td>99.614650</td>\n",
       "      <td>43.533280</td>\n",
       "      <td>150.369091</td>\n",
       "      <td>6546.059694</td>\n",
       "      <td>3.553737</td>\n",
       "      <td>1782.408163</td>\n",
       "    </tr>\n",
       "    <tr>\n",
       "      <th>1</th>\n",
       "      <td>0</td>\n",
       "      <td>0</td>\n",
       "      <td>1</td>\n",
       "      <td>0</td>\n",
       "      <td>12.25</td>\n",
       "      <td>21840.0</td>\n",
       "      <td>21869.5</td>\n",
       "      <td>99.354021</td>\n",
       "      <td>42.382033</td>\n",
       "      <td>150.369001</td>\n",
       "      <td>6372.943939</td>\n",
       "      <td>3.459758</td>\n",
       "      <td>1782.857143</td>\n",
       "    </tr>\n",
       "    <tr>\n",
       "      <th>2</th>\n",
       "      <td>0</td>\n",
       "      <td>0</td>\n",
       "      <td>2</td>\n",
       "      <td>0</td>\n",
       "      <td>12.25</td>\n",
       "      <td>21870.0</td>\n",
       "      <td>21899.5</td>\n",
       "      <td>83.622907</td>\n",
       "      <td>48.675129</td>\n",
       "      <td>150.429335</td>\n",
       "      <td>7322.167196</td>\n",
       "      <td>3.973480</td>\n",
       "      <td>1785.306122</td>\n",
       "    </tr>\n",
       "    <tr>\n",
       "      <th>3</th>\n",
       "      <td>0</td>\n",
       "      <td>0</td>\n",
       "      <td>3</td>\n",
       "      <td>0</td>\n",
       "      <td>12.25</td>\n",
       "      <td>21900.0</td>\n",
       "      <td>21929.5</td>\n",
       "      <td>85.427731</td>\n",
       "      <td>30.041290</td>\n",
       "      <td>150.080000</td>\n",
       "      <td>4508.596850</td>\n",
       "      <td>2.452350</td>\n",
       "      <td>1787.755102</td>\n",
       "    </tr>\n",
       "    <tr>\n",
       "      <th>4</th>\n",
       "      <td>0</td>\n",
       "      <td>0</td>\n",
       "      <td>3</td>\n",
       "      <td>0</td>\n",
       "      <td>12.25</td>\n",
       "      <td>21930.0</td>\n",
       "      <td>21959.5</td>\n",
       "      <td>100.639811</td>\n",
       "      <td>31.406319</td>\n",
       "      <td>150.032167</td>\n",
       "      <td>4711.958130</td>\n",
       "      <td>2.563781</td>\n",
       "      <td>1790.204082</td>\n",
       "    </tr>\n",
       "  </tbody>\n",
       "</table>\n",
       "</div>"
      ],
      "text/plain": [
       "   wellbore_chev_no_id  area_id  formation_id  bit_model_id  drillbit_size  \\\n",
       "0                    0        0             0             0          12.25   \n",
       "1                    0        0             1             0          12.25   \n",
       "2                    0        0             2             0          12.25   \n",
       "3                    0        0             3             0          12.25   \n",
       "4                    0        0             3             0          12.25   \n",
       "\n",
       "   min_depth  max_depth  rate_of_penetration  surface_weight_on_bit  \\\n",
       "0    21834.5    21839.5            99.614650              43.533280   \n",
       "1    21840.0    21869.5            99.354021              42.382033   \n",
       "2    21870.0    21899.5            83.622907              48.675129   \n",
       "3    21900.0    21929.5            85.427731              30.041290   \n",
       "4    21930.0    21959.5           100.639811              31.406319   \n",
       "\n",
       "   surface_rpm      rpm*wob  wob/bit_size  min_depth/bit_size  \n",
       "0   150.369091  6546.059694      3.553737         1782.408163  \n",
       "1   150.369001  6372.943939      3.459758         1782.857143  \n",
       "2   150.429335  7322.167196      3.973480         1785.306122  \n",
       "3   150.080000  4508.596850      2.452350         1787.755102  \n",
       "4   150.032167  4711.958130      2.563781         1790.204082  "
      ]
     },
     "execution_count": 235,
     "metadata": {},
     "output_type": "execute_result"
    }
   ],
   "source": [
    "data.head()"
   ]
  },
  {
   "cell_type": "code",
   "execution_count": 236,
   "metadata": {},
   "outputs": [],
   "source": [
    "## used for sharing files\n",
    "# data.to_csv(r\"C:\\Users\\patrick\\Documents\\Rice\\Datathon\\new_data_ratios.csv\")\n",
    "# data = pd.read_csv(r\"C:\\Users\\patrick\\Documents\\Rice\\Datathon\\new_data_ratios.csv\")"
   ]
  },
  {
   "cell_type": "code",
   "execution_count": 237,
   "metadata": {},
   "outputs": [
    {
     "data": {
      "text/plain": [
       "area_id                 -0.017798\n",
       "formation_id            -0.287867\n",
       "bit_model_id            -0.137436\n",
       "drillbit_size            0.330420\n",
       "min_depth               -0.447236\n",
       "max_depth               -0.447215\n",
       "rate_of_penetration      1.000000\n",
       "surface_weight_on_bit    0.510900\n",
       "surface_rpm              0.687476\n",
       "rpm*wob                  0.661430\n",
       "wob/bit_size             0.305028\n",
       "min_depth/bit_size      -0.494811\n",
       "Name: rate_of_penetration, dtype: float64"
      ]
     },
     "execution_count": 237,
     "metadata": {},
     "output_type": "execute_result"
    }
   ],
   "source": [
    "# correlation\n",
    "data[data.columns[1:]].corr()['rate_of_penetration'][:]"
   ]
  },
  {
   "cell_type": "markdown",
   "metadata": {},
   "source": [
    "### Modeling:"
   ]
  },
  {
   "cell_type": "code",
   "execution_count": 238,
   "metadata": {},
   "outputs": [],
   "source": [
    "from sklearn.metrics import auc, accuracy_score, confusion_matrix, mean_squared_error\n",
    "from sklearn.model_selection import cross_val_score, GridSearchCV, KFold, RandomizedSearchCV, train_test_split\n",
    "import xgboost as xgb\n",
    "from xgboost.sklearn import XGBRegressor\n",
    "from sklearn.linear_model import ElasticNet\n",
    "from sklearn.datasets import make_regression\n",
    "from sklearn.preprocessing import StandardScaler\n",
    "from sklearn.ensemble import RandomForestRegressor\n",
    "from scipy import stats"
   ]
  },
  {
   "cell_type": "code",
   "execution_count": 259,
   "metadata": {},
   "outputs": [],
   "source": [
    "y = data.rate_of_penetration\n",
    "X = data.drop(columns=['rate_of_penetration','area_id', 'formation_id', 'bit_model_id', 'wellbore_chev_no_id'])\n",
    "X_train, X_test, y_train, y_test = train_test_split(X, y, test_size=0.30, random_state=42)"
   ]
  },
  {
   "cell_type": "code",
   "execution_count": 260,
   "metadata": {},
   "outputs": [],
   "source": [
    "# outlier removal\n",
    "# X_train = X_train[(np.abs(stats.zscore(X_train)) < 3).all(axis=1)]\n",
    "# y_train = y_train[(np.abs(stats.zscore(y_train)) < 3)]"
   ]
  },
  {
   "cell_type": "code",
   "execution_count": 261,
   "metadata": {},
   "outputs": [
    {
     "data": {
      "text/html": [
       "<div>\n",
       "<style scoped>\n",
       "    .dataframe tbody tr th:only-of-type {\n",
       "        vertical-align: middle;\n",
       "    }\n",
       "\n",
       "    .dataframe tbody tr th {\n",
       "        vertical-align: top;\n",
       "    }\n",
       "\n",
       "    .dataframe thead th {\n",
       "        text-align: right;\n",
       "    }\n",
       "</style>\n",
       "<table border=\"1\" class=\"dataframe\">\n",
       "  <thead>\n",
       "    <tr style=\"text-align: right;\">\n",
       "      <th></th>\n",
       "      <th>drillbit_size</th>\n",
       "      <th>min_depth</th>\n",
       "      <th>max_depth</th>\n",
       "      <th>surface_weight_on_bit</th>\n",
       "      <th>surface_rpm</th>\n",
       "      <th>rpm*wob</th>\n",
       "      <th>wob/bit_size</th>\n",
       "      <th>min_depth/bit_size</th>\n",
       "    </tr>\n",
       "  </thead>\n",
       "  <tbody>\n",
       "    <tr>\n",
       "      <th>0</th>\n",
       "      <td>12.25</td>\n",
       "      <td>21834.5</td>\n",
       "      <td>21839.5</td>\n",
       "      <td>43.533280</td>\n",
       "      <td>150.369091</td>\n",
       "      <td>6546.059694</td>\n",
       "      <td>3.553737</td>\n",
       "      <td>1782.408163</td>\n",
       "    </tr>\n",
       "    <tr>\n",
       "      <th>1</th>\n",
       "      <td>12.25</td>\n",
       "      <td>21840.0</td>\n",
       "      <td>21869.5</td>\n",
       "      <td>42.382033</td>\n",
       "      <td>150.369001</td>\n",
       "      <td>6372.943939</td>\n",
       "      <td>3.459758</td>\n",
       "      <td>1782.857143</td>\n",
       "    </tr>\n",
       "    <tr>\n",
       "      <th>2</th>\n",
       "      <td>12.25</td>\n",
       "      <td>21870.0</td>\n",
       "      <td>21899.5</td>\n",
       "      <td>48.675129</td>\n",
       "      <td>150.429335</td>\n",
       "      <td>7322.167196</td>\n",
       "      <td>3.973480</td>\n",
       "      <td>1785.306122</td>\n",
       "    </tr>\n",
       "    <tr>\n",
       "      <th>3</th>\n",
       "      <td>12.25</td>\n",
       "      <td>21900.0</td>\n",
       "      <td>21929.5</td>\n",
       "      <td>30.041290</td>\n",
       "      <td>150.080000</td>\n",
       "      <td>4508.596850</td>\n",
       "      <td>2.452350</td>\n",
       "      <td>1787.755102</td>\n",
       "    </tr>\n",
       "    <tr>\n",
       "      <th>4</th>\n",
       "      <td>12.25</td>\n",
       "      <td>21930.0</td>\n",
       "      <td>21959.5</td>\n",
       "      <td>31.406319</td>\n",
       "      <td>150.032167</td>\n",
       "      <td>4711.958130</td>\n",
       "      <td>2.563781</td>\n",
       "      <td>1790.204082</td>\n",
       "    </tr>\n",
       "  </tbody>\n",
       "</table>\n",
       "</div>"
      ],
      "text/plain": [
       "   drillbit_size  min_depth  max_depth  surface_weight_on_bit  surface_rpm  \\\n",
       "0          12.25    21834.5    21839.5              43.533280   150.369091   \n",
       "1          12.25    21840.0    21869.5              42.382033   150.369001   \n",
       "2          12.25    21870.0    21899.5              48.675129   150.429335   \n",
       "3          12.25    21900.0    21929.5              30.041290   150.080000   \n",
       "4          12.25    21930.0    21959.5              31.406319   150.032167   \n",
       "\n",
       "       rpm*wob  wob/bit_size  min_depth/bit_size  \n",
       "0  6546.059694      3.553737         1782.408163  \n",
       "1  6372.943939      3.459758         1782.857143  \n",
       "2  7322.167196      3.973480         1785.306122  \n",
       "3  4508.596850      2.452350         1787.755102  \n",
       "4  4711.958130      2.563781         1790.204082  "
      ]
     },
     "execution_count": 261,
     "metadata": {},
     "output_type": "execute_result"
    }
   ],
   "source": [
    "X.head()"
   ]
  },
  {
   "cell_type": "markdown",
   "metadata": {},
   "source": [
    "#### Elastic Net:"
   ]
  },
  {
   "cell_type": "code",
   "execution_count": 262,
   "metadata": {},
   "outputs": [
    {
     "data": {
      "text/plain": [
       "ElasticNet(alpha=1.0, copy_X=True, fit_intercept=True, l1_ratio=0.5,\n",
       "           max_iter=1000, normalize=False, positive=False, precompute=False,\n",
       "           random_state=0, selection='cyclic', tol=0.1, warm_start=False)"
      ]
     },
     "execution_count": 262,
     "metadata": {},
     "output_type": "execute_result"
    }
   ],
   "source": [
    "X, y = make_regression(n_features= 2, random_state=0)\n",
    "regr = ElasticNet(random_state=0, tol = 0.1)\n",
    "regr.fit(X_train, y_train)"
   ]
  },
  {
   "cell_type": "code",
   "execution_count": 263,
   "metadata": {},
   "outputs": [
    {
     "name": "stdout",
     "output_type": "stream",
     "text": [
      "Mean Squared Error: 846.3419122764454\n",
      "Root Mean Squared Error: 29.091956143862955\n"
     ]
    }
   ],
   "source": [
    "y_pred = regr.predict(X_test)\n",
    "print('Mean Squared Error:', metrics.mean_squared_error(y_test, y_pred))\n",
    "print('Root Mean Squared Error:', np.sqrt(metrics.mean_squared_error(y_test, y_pred)))"
   ]
  },
  {
   "cell_type": "markdown",
   "metadata": {},
   "source": [
    "#### XGBoost"
   ]
  },
  {
   "cell_type": "code",
   "execution_count": 243,
   "metadata": {},
   "outputs": [
    {
     "name": "stderr",
     "output_type": "stream",
     "text": [
      "C:\\Users\\patrick\\Anaconda3\\lib\\site-packages\\xgboost\\core.py:587: FutureWarning: Series.base is deprecated and will be removed in a future version\n",
      "  if getattr(data, 'base', None) is not None and \\\n"
     ]
    },
    {
     "name": "stdout",
     "output_type": "stream",
     "text": [
      "[13:51:33] WARNING: C:/Jenkins/workspace/xgboost-win64_release_0.90/src/objective/regression_obj.cu:152: reg:linear is now deprecated in favor of reg:squarederror.\n"
     ]
    },
    {
     "data": {
      "text/plain": [
       "XGBRegressor(base_score=0.5, booster='gbtree', colsample_bylevel=1,\n",
       "             colsample_bynode=1, colsample_bytree=1, gamma=0,\n",
       "             importance_type='gain', learning_rate=0.1, max_delta_step=0,\n",
       "             max_depth=3, min_child_weight=1, missing=None, n_estimators=100,\n",
       "             n_jobs=1, nthread=None, objective='reg:linear', random_state=0,\n",
       "             reg_alpha=0, reg_lambda=1, scale_pos_weight=1, seed=None,\n",
       "             silent=None, subsample=1, verbosity=1)"
      ]
     },
     "execution_count": 243,
     "metadata": {},
     "output_type": "execute_result"
    }
   ],
   "source": [
    "xgb_model = xgb.XGBRegressor(objective=\"reg:squarederror\", random_state=42)\n",
    "xgbr = xgb.XGBRegressor() \n",
    "XGBRegressor(base_score=0.8, booster='gbtree', colsample_bylevel=1,\n",
    "       colsample_bynode=1, colsample_bytree=1, gamma=0,\n",
    "       importance_type='gain', learning_rate=0.2, max_delta_step=0,\n",
    "       max_depth=7, min_child_weight=1, missing=None, n_estimators=350,\n",
    "       n_jobs=1, nthread=None, objective='reg:squarederror', random_state=0,\n",
    "       reg_alpha=0, reg_lambda=1, scale_pos_weight=1, seed=None,\n",
    "       silent=None, subsample=1, verbosity=1)\n",
    "xgbr.fit(X_train, y_train)"
   ]
  },
  {
   "cell_type": "code",
   "execution_count": 244,
   "metadata": {},
   "outputs": [
    {
     "name": "stdout",
     "output_type": "stream",
     "text": [
      "Mean Squared Error: 410.3002793434001\n",
      "Root Mean Squared Error: 20.25587024404037\n"
     ]
    }
   ],
   "source": [
    "y_pred = xgbr.predict(X_test)\n",
    "print('Mean Squared Error:', metrics.mean_squared_error(y_test, y_pred))\n",
    "print('Root Mean Squared Error:', np.sqrt(metrics.mean_squared_error(y_test, y_pred)))"
   ]
  },
  {
   "cell_type": "markdown",
   "metadata": {},
   "source": [
    "#### Random Forest"
   ]
  },
  {
   "cell_type": "code",
   "execution_count": 264,
   "metadata": {},
   "outputs": [],
   "source": [
    "sc = StandardScaler()\n",
    "X_train = sc.fit_transform(X_train)\n",
    "X_test = sc.transform(X_test)"
   ]
  },
  {
   "cell_type": "code",
   "execution_count": 265,
   "metadata": {},
   "outputs": [],
   "source": [
    "regressor = RandomForestRegressor(n_estimators=500, random_state=0)\n",
    "regressor.fit(X_train, y_train)\n",
    "y_pred = regressor.predict(X_test)"
   ]
  },
  {
   "cell_type": "code",
   "execution_count": 266,
   "metadata": {},
   "outputs": [
    {
     "name": "stdout",
     "output_type": "stream",
     "text": [
      "Mean Squared Error: 304.04632668224747\n",
      "Root Mean Squared Error: 17.436924232279253\n"
     ]
    }
   ],
   "source": [
    "print('Mean Squared Error:', metrics.mean_squared_error(y_test, y_pred))\n",
    "print('Root Mean Squared Error:', np.sqrt(metrics.mean_squared_error(y_test, y_pred)))"
   ]
  },
  {
   "cell_type": "markdown",
   "metadata": {},
   "source": [
    "### Scoring:"
   ]
  },
  {
   "cell_type": "code",
   "execution_count": 267,
   "metadata": {},
   "outputs": [],
   "source": [
    "y = data.rate_of_penetration\n",
    "X = data.drop(columns=['rate_of_penetration','area_id', 'formation_id', 'bit_model_id', 'wellbore_chev_no_id'])"
   ]
  },
  {
   "cell_type": "code",
   "execution_count": 268,
   "metadata": {},
   "outputs": [
    {
     "data": {
      "text/plain": [
       "RandomForestRegressor(bootstrap=True, criterion='mse', max_depth=None,\n",
       "                      max_features='auto', max_leaf_nodes=None,\n",
       "                      min_impurity_decrease=0.0, min_impurity_split=None,\n",
       "                      min_samples_leaf=1, min_samples_split=2,\n",
       "                      min_weight_fraction_leaf=0.0, n_estimators=500,\n",
       "                      n_jobs=None, oob_score=False, random_state=0, verbose=0,\n",
       "                      warm_start=False)"
      ]
     },
     "execution_count": 268,
     "metadata": {},
     "output_type": "execute_result"
    }
   ],
   "source": [
    "regressor.fit(X, y)"
   ]
  },
  {
   "cell_type": "code",
   "execution_count": 269,
   "metadata": {},
   "outputs": [],
   "source": [
    "X_test = pd.read_csv(r\"C:\\Users\\patrick\\Documents\\Rice\\Datathon\\scoring.csv\")\n",
    "X_test['rpm*wob'] = X_test.surface_rpm * X_test.surface_weight_on_bit\n",
    "X_test['wob/bit_size'] = X_test.surface_weight_on_bit / X_test.drillbit_size\n",
    "X_test['min_depth/bit_size'] = X_test.min_depth / X_test.drillbit_size\n",
    "X_test = X_test.drop(columns=['segment_id', 'area_id', 'formation_id', 'bit_model_id', 'wellbore_chev_no_id'])\n",
    "y_pred = regressor.predict(X_test)"
   ]
  },
  {
   "cell_type": "code",
   "execution_count": 270,
   "metadata": {},
   "outputs": [],
   "source": [
    "new = pd.read_csv(r\"C:\\Users\\patrick\\Documents\\Rice\\Datathon\\scoring.csv\")"
   ]
  },
  {
   "cell_type": "code",
   "execution_count": 271,
   "metadata": {},
   "outputs": [
    {
     "data": {
      "text/html": [
       "<div>\n",
       "<style scoped>\n",
       "    .dataframe tbody tr th:only-of-type {\n",
       "        vertical-align: middle;\n",
       "    }\n",
       "\n",
       "    .dataframe tbody tr th {\n",
       "        vertical-align: top;\n",
       "    }\n",
       "\n",
       "    .dataframe thead th {\n",
       "        text-align: right;\n",
       "    }\n",
       "</style>\n",
       "<table border=\"1\" class=\"dataframe\">\n",
       "  <thead>\n",
       "    <tr style=\"text-align: right;\">\n",
       "      <th></th>\n",
       "      <th>segment_id</th>\n",
       "      <th>wellbore_chev_no_id</th>\n",
       "      <th>area_id</th>\n",
       "      <th>formation_id</th>\n",
       "      <th>bit_model_id</th>\n",
       "      <th>drillbit_size</th>\n",
       "      <th>min_depth</th>\n",
       "      <th>max_depth</th>\n",
       "      <th>surface_weight_on_bit</th>\n",
       "      <th>surface_rpm</th>\n",
       "    </tr>\n",
       "  </thead>\n",
       "  <tbody>\n",
       "    <tr>\n",
       "      <th>0</th>\n",
       "      <td>wellbore_chev_no_14_665</td>\n",
       "      <td>wellbore_chev_no_14</td>\n",
       "      <td>area_1</td>\n",
       "      <td>formation_220</td>\n",
       "      <td>bit_model_10</td>\n",
       "      <td>18.125</td>\n",
       "      <td>19950.0</td>\n",
       "      <td>19950.0</td>\n",
       "      <td>21.660570</td>\n",
       "      <td>60.655739</td>\n",
       "    </tr>\n",
       "    <tr>\n",
       "      <th>1</th>\n",
       "      <td>wellbore_chev_no_14_681</td>\n",
       "      <td>wellbore_chev_no_14</td>\n",
       "      <td>area_1</td>\n",
       "      <td>formation_215</td>\n",
       "      <td>bit_model_10</td>\n",
       "      <td>18.125</td>\n",
       "      <td>20452.0</td>\n",
       "      <td>20459.5</td>\n",
       "      <td>27.768233</td>\n",
       "      <td>160.737708</td>\n",
       "    </tr>\n",
       "    <tr>\n",
       "      <th>2</th>\n",
       "      <td>wellbore_chev_no_14_682</td>\n",
       "      <td>wellbore_chev_no_14</td>\n",
       "      <td>area_1</td>\n",
       "      <td>formation_215</td>\n",
       "      <td>bit_model_10</td>\n",
       "      <td>18.125</td>\n",
       "      <td>20460.0</td>\n",
       "      <td>20489.5</td>\n",
       "      <td>28.667844</td>\n",
       "      <td>159.185793</td>\n",
       "    </tr>\n",
       "    <tr>\n",
       "      <th>3</th>\n",
       "      <td>wellbore_chev_no_14_683</td>\n",
       "      <td>wellbore_chev_no_14</td>\n",
       "      <td>area_1</td>\n",
       "      <td>formation_213</td>\n",
       "      <td>bit_model_10</td>\n",
       "      <td>18.125</td>\n",
       "      <td>20490.0</td>\n",
       "      <td>20519.5</td>\n",
       "      <td>24.379720</td>\n",
       "      <td>160.027321</td>\n",
       "    </tr>\n",
       "    <tr>\n",
       "      <th>4</th>\n",
       "      <td>wellbore_chev_no_14_684</td>\n",
       "      <td>wellbore_chev_no_14</td>\n",
       "      <td>area_1</td>\n",
       "      <td>formation_213</td>\n",
       "      <td>bit_model_10</td>\n",
       "      <td>18.125</td>\n",
       "      <td>20520.0</td>\n",
       "      <td>20549.5</td>\n",
       "      <td>23.551256</td>\n",
       "      <td>151.726782</td>\n",
       "    </tr>\n",
       "  </tbody>\n",
       "</table>\n",
       "</div>"
      ],
      "text/plain": [
       "                segment_id  wellbore_chev_no_id area_id   formation_id  \\\n",
       "0  wellbore_chev_no_14_665  wellbore_chev_no_14  area_1  formation_220   \n",
       "1  wellbore_chev_no_14_681  wellbore_chev_no_14  area_1  formation_215   \n",
       "2  wellbore_chev_no_14_682  wellbore_chev_no_14  area_1  formation_215   \n",
       "3  wellbore_chev_no_14_683  wellbore_chev_no_14  area_1  formation_213   \n",
       "4  wellbore_chev_no_14_684  wellbore_chev_no_14  area_1  formation_213   \n",
       "\n",
       "   bit_model_id  drillbit_size  min_depth  max_depth  surface_weight_on_bit  \\\n",
       "0  bit_model_10         18.125    19950.0    19950.0              21.660570   \n",
       "1  bit_model_10         18.125    20452.0    20459.5              27.768233   \n",
       "2  bit_model_10         18.125    20460.0    20489.5              28.667844   \n",
       "3  bit_model_10         18.125    20490.0    20519.5              24.379720   \n",
       "4  bit_model_10         18.125    20520.0    20549.5              23.551256   \n",
       "\n",
       "   surface_rpm  \n",
       "0    60.655739  \n",
       "1   160.737708  \n",
       "2   159.185793  \n",
       "3   160.027321  \n",
       "4   151.726782  "
      ]
     },
     "execution_count": 271,
     "metadata": {},
     "output_type": "execute_result"
    }
   ],
   "source": [
    "new.head()"
   ]
  },
  {
   "cell_type": "code",
   "execution_count": 272,
   "metadata": {},
   "outputs": [],
   "source": [
    "new2 = new.segment_id"
   ]
  },
  {
   "cell_type": "code",
   "execution_count": 277,
   "metadata": {},
   "outputs": [],
   "source": [
    "rate_of_penetration = pd.Series(y_pred)"
   ]
  },
  {
   "cell_type": "code",
   "execution_count": 279,
   "metadata": {},
   "outputs": [],
   "source": [
    "submission = pd.concat([new2, rate_of_penetration], axis=1)"
   ]
  },
  {
   "cell_type": "code",
   "execution_count": 283,
   "metadata": {},
   "outputs": [],
   "source": [
    "submission = submission.rename(columns = {0:\"rate_of_penetration\"})"
   ]
  },
  {
   "cell_type": "code",
   "execution_count": 284,
   "metadata": {},
   "outputs": [
    {
     "data": {
      "text/html": [
       "<div>\n",
       "<style scoped>\n",
       "    .dataframe tbody tr th:only-of-type {\n",
       "        vertical-align: middle;\n",
       "    }\n",
       "\n",
       "    .dataframe tbody tr th {\n",
       "        vertical-align: top;\n",
       "    }\n",
       "\n",
       "    .dataframe thead th {\n",
       "        text-align: right;\n",
       "    }\n",
       "</style>\n",
       "<table border=\"1\" class=\"dataframe\">\n",
       "  <thead>\n",
       "    <tr style=\"text-align: right;\">\n",
       "      <th></th>\n",
       "      <th>segment_id</th>\n",
       "      <th>rate_of_penetration</th>\n",
       "    </tr>\n",
       "  </thead>\n",
       "  <tbody>\n",
       "    <tr>\n",
       "      <th>0</th>\n",
       "      <td>wellbore_chev_no_14_665</td>\n",
       "      <td>22.679641</td>\n",
       "    </tr>\n",
       "    <tr>\n",
       "      <th>1</th>\n",
       "      <td>wellbore_chev_no_14_681</td>\n",
       "      <td>147.616992</td>\n",
       "    </tr>\n",
       "    <tr>\n",
       "      <th>2</th>\n",
       "      <td>wellbore_chev_no_14_682</td>\n",
       "      <td>140.189544</td>\n",
       "    </tr>\n",
       "    <tr>\n",
       "      <th>3</th>\n",
       "      <td>wellbore_chev_no_14_683</td>\n",
       "      <td>136.862025</td>\n",
       "    </tr>\n",
       "    <tr>\n",
       "      <th>4</th>\n",
       "      <td>wellbore_chev_no_14_684</td>\n",
       "      <td>123.792139</td>\n",
       "    </tr>\n",
       "  </tbody>\n",
       "</table>\n",
       "</div>"
      ],
      "text/plain": [
       "                segment_id  rate_of_penetration\n",
       "0  wellbore_chev_no_14_665            22.679641\n",
       "1  wellbore_chev_no_14_681           147.616992\n",
       "2  wellbore_chev_no_14_682           140.189544\n",
       "3  wellbore_chev_no_14_683           136.862025\n",
       "4  wellbore_chev_no_14_684           123.792139"
      ]
     },
     "execution_count": 284,
     "metadata": {},
     "output_type": "execute_result"
    }
   ],
   "source": [
    "submission.head()"
   ]
  },
  {
   "cell_type": "code",
   "execution_count": 288,
   "metadata": {},
   "outputs": [],
   "source": [
    "submission.to_csv(r\"C:\\Users\\patrick\\Documents\\Rice\\Datathon\\submission.csv\", index = False)"
   ]
  },
  {
   "cell_type": "code",
   "execution_count": null,
   "metadata": {},
   "outputs": [],
   "source": []
  }
 ],
 "metadata": {
  "kernelspec": {
   "display_name": "Python 3",
   "language": "python",
   "name": "python3"
  },
  "language_info": {
   "codemirror_mode": {
    "name": "ipython",
    "version": 3
   },
   "file_extension": ".py",
   "mimetype": "text/x-python",
   "name": "python",
   "nbconvert_exporter": "python",
   "pygments_lexer": "ipython3",
   "version": "3.7.3"
  }
 },
 "nbformat": 4,
 "nbformat_minor": 2
}
